{
  "cells": [
    {
      "cell_type": "markdown",
      "metadata": {
        "_cell_guid": "b1076dfc-b9ad-4769-8c92-a6c4dae69d19",
        "_uuid": "8f2839f25d086af736a60e9eeb907d3b93b6e0e5",
        "execution": {
          "iopub.execute_input": "2021-10-08T12:58:11.812902Z",
          "iopub.status.busy": "2021-10-08T12:58:11.812144Z",
          "iopub.status.idle": "2021-10-08T12:58:11.829075Z",
          "shell.execute_reply": "2021-10-08T12:58:11.828148Z",
          "shell.execute_reply.started": "2021-10-08T12:58:11.812847Z"
        },
        "id": "mf_k4RPUkTxg"
      },
      "source": [
        "# EDA Project : Twitter Sentiment Analysis"
      ]
    },
    {
      "cell_type": "markdown",
      "metadata": {
        "id": "QcZpsOiMkxps"
      },
      "source": [
        "**Team members:**\n",
        "\n",
        "20BCE1942 Karnati Vinay \n",
        "\n",
        "20BCE1687 Kanna Lakshmi Dathatreya\n",
        "\n",
        "20BPS1125 Kanishka Ghosh\n",
        "\n",
        "\n"
      ]
    },
    {
      "cell_type": "markdown",
      "metadata": {
        "id": "rT_OFkoAkTxj"
      },
      "source": [
        "### Importing Libraries"
      ]
    },
    {
      "cell_type": "code",
      "execution_count": 1,
      "metadata": {
        "colab": {
          "base_uri": "https://localhost:8080/"
        },
        "id": "PyK5tI_JnCHJ",
        "outputId": "577e0ac0-04b3-444f-d410-1300dd111376"
      },
      "outputs": [
        {
          "name": "stdout",
          "output_type": "stream",
          "text": [
            "Looking in indexes: https://pypi.org/simple, https://us-python.pkg.dev/colab-wheels/public/simple/\n",
            "Collecting lime\n",
            "  Downloading lime-0.2.0.1.tar.gz (275 kB)\n",
            "\u001b[2K     \u001b[90m━━━━━━━━━━━━━━━━━━━━━━━━━━━━━━━━━━━━━━\u001b[0m \u001b[32m275.7/275.7 KB\u001b[0m \u001b[31m15.3 MB/s\u001b[0m eta \u001b[36m0:00:00\u001b[0m\n",
            "\u001b[?25h  Preparing metadata (setup.py) ... \u001b[?25l\u001b[?25hdone\n",
            "Requirement already satisfied: matplotlib in /usr/local/lib/python3.9/dist-packages (from lime) (3.7.1)\n",
            "Requirement already satisfied: numpy in /usr/local/lib/python3.9/dist-packages (from lime) (1.22.4)\n",
            "Requirement already satisfied: scipy in /usr/local/lib/python3.9/dist-packages (from lime) (1.10.1)\n",
            "Requirement already satisfied: tqdm in /usr/local/lib/python3.9/dist-packages (from lime) (4.65.0)\n",
            "Requirement already satisfied: scikit-learn>=0.18 in /usr/local/lib/python3.9/dist-packages (from lime) (1.2.2)\n",
            "Requirement already satisfied: scikit-image>=0.12 in /usr/local/lib/python3.9/dist-packages (from lime) (0.19.3)\n",
            "Requirement already satisfied: pillow!=7.1.0,!=7.1.1,!=8.3.0,>=6.1.0 in /usr/local/lib/python3.9/dist-packages (from scikit-image>=0.12->lime) (8.4.0)\n",
            "Requirement already satisfied: imageio>=2.4.1 in /usr/local/lib/python3.9/dist-packages (from scikit-image>=0.12->lime) (2.25.1)\n",
            "Requirement already satisfied: tifffile>=2019.7.26 in /usr/local/lib/python3.9/dist-packages (from scikit-image>=0.12->lime) (2023.3.21)\n",
            "Requirement already satisfied: networkx>=2.2 in /usr/local/lib/python3.9/dist-packages (from scikit-image>=0.12->lime) (3.0)\n",
            "Requirement already satisfied: packaging>=20.0 in /usr/local/lib/python3.9/dist-packages (from scikit-image>=0.12->lime) (23.0)\n",
            "Requirement already satisfied: PyWavelets>=1.1.1 in /usr/local/lib/python3.9/dist-packages (from scikit-image>=0.12->lime) (1.4.1)\n",
            "Requirement already satisfied: joblib>=1.1.1 in /usr/local/lib/python3.9/dist-packages (from scikit-learn>=0.18->lime) (1.1.1)\n",
            "Requirement already satisfied: threadpoolctl>=2.0.0 in /usr/local/lib/python3.9/dist-packages (from scikit-learn>=0.18->lime) (3.1.0)\n",
            "Requirement already satisfied: python-dateutil>=2.7 in /usr/local/lib/python3.9/dist-packages (from matplotlib->lime) (2.8.2)\n",
            "Requirement already satisfied: importlib-resources>=3.2.0 in /usr/local/lib/python3.9/dist-packages (from matplotlib->lime) (5.12.0)\n",
            "Requirement already satisfied: pyparsing>=2.3.1 in /usr/local/lib/python3.9/dist-packages (from matplotlib->lime) (3.0.9)\n",
            "Requirement already satisfied: kiwisolver>=1.0.1 in /usr/local/lib/python3.9/dist-packages (from matplotlib->lime) (1.4.4)\n",
            "Requirement already satisfied: fonttools>=4.22.0 in /usr/local/lib/python3.9/dist-packages (from matplotlib->lime) (4.39.2)\n",
            "Requirement already satisfied: cycler>=0.10 in /usr/local/lib/python3.9/dist-packages (from matplotlib->lime) (0.11.0)\n",
            "Requirement already satisfied: contourpy>=1.0.1 in /usr/local/lib/python3.9/dist-packages (from matplotlib->lime) (1.0.7)\n",
            "Requirement already satisfied: zipp>=3.1.0 in /usr/local/lib/python3.9/dist-packages (from importlib-resources>=3.2.0->matplotlib->lime) (3.15.0)\n",
            "Requirement already satisfied: six>=1.5 in /usr/local/lib/python3.9/dist-packages (from python-dateutil>=2.7->matplotlib->lime) (1.16.0)\n",
            "Building wheels for collected packages: lime\n",
            "  Building wheel for lime (setup.py) ... \u001b[?25l\u001b[?25hdone\n",
            "  Created wheel for lime: filename=lime-0.2.0.1-py3-none-any.whl size=283859 sha256=c9cdc6d9ca1564e214b1bc64f93992e8dbc4e4fbb53e7d38ebe1429ab672bbc6\n",
            "  Stored in directory: /root/.cache/pip/wheels/ed/d7/c9/5a0130d06d6310bc6cbe55220e6e72dcb8c4eff9a478717066\n",
            "Successfully built lime\n",
            "Installing collected packages: lime\n",
            "Successfully installed lime-0.2.0.1\n"
          ]
        }
      ],
      "source": [
        "pip install lime"
      ]
    },
    {
      "cell_type": "code",
      "execution_count": 2,
      "metadata": {
        "colab": {
          "base_uri": "https://localhost:8080/"
        },
        "execution": {
          "iopub.execute_input": "2022-01-06T07:19:23.689094Z",
          "iopub.status.busy": "2022-01-06T07:19:23.688808Z",
          "iopub.status.idle": "2022-01-06T07:19:29.655528Z",
          "shell.execute_reply": "2022-01-06T07:19:29.654784Z",
          "shell.execute_reply.started": "2022-01-06T07:19:23.689021Z"
        },
        "id": "gSouVTRdkTxk",
        "outputId": "c69930a4-593e-41ff-bddf-591b52cf347c",
        "trusted": true
      },
      "outputs": [
        {
          "name": "stderr",
          "output_type": "stream",
          "text": [
            "[nltk_data] Downloading package punkt to /root/nltk_data...\n",
            "[nltk_data]   Unzipping tokenizers/punkt.zip.\n",
            "[nltk_data] Downloading package stopwords to /root/nltk_data...\n",
            "[nltk_data]   Unzipping corpora/stopwords.zip.\n"
          ]
        }
      ],
      "source": [
        "import pandas as pd\n",
        "import seaborn as sns\n",
        "import re, nltk\n",
        "nltk.download('punkt')\n",
        "import matplotlib.pyplot as plt \n",
        "from sklearn.model_selection import train_test_split, StratifiedKFold, cross_val_score\n",
        "from sklearn import model_selection, naive_bayes, svm\n",
        "from sklearn.metrics import classification_report,confusion_matrix\n",
        "from sklearn.metrics import roc_auc_score\n",
        "from sklearn.metrics import recall_score\n",
        "from sklearn.metrics import f1_score\n",
        "from sklearn.metrics import confusion_matrix, accuracy_score\n",
        "from sklearn.model_selection import GridSearchCV\n",
        "from sklearn.metrics import precision_recall_curve\n",
        "from sklearn.metrics import f1_score\n",
        "from sklearn.metrics import auc\n",
        "from matplotlib import pyplot\n",
        "from sklearn.metrics import roc_curve\n",
        "from sklearn.metrics import roc_auc_score, accuracy_score\n",
        "import string\n",
        "from nltk.corpus import stopwords\n",
        "nltk.download('stopwords')\n",
        "from sklearn.feature_extraction.text import CountVectorizer, TfidfVectorizer\n",
        "from sklearn.naive_bayes import MultinomialNB, GaussianNB\n",
        "from sklearn.metrics import f1_score\n",
        "from sklearn.ensemble import AdaBoostClassifier\n",
        "from sklearn.model_selection import cross_val_score\n",
        "import numpy as np\n",
        "from sklearn.ensemble import BaggingClassifier\n",
        "from sklearn.ensemble import RandomForestClassifier\n",
        "from lime import lime_tabular\n",
        "from tensorflow.keras.layers import Embedding\n",
        "from tensorflow.keras.preprocessing.sequence import pad_sequences\n",
        "from tensorflow.keras.models import Sequential\n",
        "from tensorflow.keras.preprocessing.text import one_hot\n",
        "from tensorflow.keras.layers import LSTM, Bidirectional\n",
        "from tensorflow.keras.layers import Dense, Dropout\n",
        "\n"
      ]
    },
    {
      "cell_type": "code",
      "execution_count": 4,
      "metadata": {
        "colab": {
          "base_uri": "https://localhost:8080/",
          "height": 495
        },
        "execution": {
          "iopub.execute_input": "2022-01-06T07:19:29.658972Z",
          "iopub.status.busy": "2022-01-06T07:19:29.658775Z",
          "iopub.status.idle": "2022-01-06T07:19:29.800728Z",
          "shell.execute_reply": "2022-01-06T07:19:29.800061Z",
          "shell.execute_reply.started": "2022-01-06T07:19:29.658949Z"
        },
        "id": "FK9kSo6_kTxm",
        "outputId": "154600da-171b-462e-951e-10538a48ff2d",
        "trusted": true
      },
      "outputs": [
        {
          "data": {
            "text/html": [
              "\n",
              "  <div id=\"df-eb9bbf16-7eb2-4088-89e5-5f9cd2beefe5\">\n",
              "    <div class=\"colab-df-container\">\n",
              "      <div>\n",
              "<style scoped>\n",
              "    .dataframe tbody tr th:only-of-type {\n",
              "        vertical-align: middle;\n",
              "    }\n",
              "\n",
              "    .dataframe tbody tr th {\n",
              "        vertical-align: top;\n",
              "    }\n",
              "\n",
              "    .dataframe thead th {\n",
              "        text-align: right;\n",
              "    }\n",
              "</style>\n",
              "<table border=\"1\" class=\"dataframe\">\n",
              "  <thead>\n",
              "    <tr style=\"text-align: right;\">\n",
              "      <th></th>\n",
              "      <th>tweet_id</th>\n",
              "      <th>airline_sentiment</th>\n",
              "      <th>airline_sentiment_confidence</th>\n",
              "      <th>negativereason</th>\n",
              "      <th>negativereason_confidence</th>\n",
              "      <th>airline</th>\n",
              "      <th>airline_sentiment_gold</th>\n",
              "      <th>name</th>\n",
              "      <th>negativereason_gold</th>\n",
              "      <th>retweet_count</th>\n",
              "      <th>text</th>\n",
              "      <th>tweet_coord</th>\n",
              "      <th>tweet_created</th>\n",
              "      <th>tweet_location</th>\n",
              "      <th>user_timezone</th>\n",
              "    </tr>\n",
              "  </thead>\n",
              "  <tbody>\n",
              "    <tr>\n",
              "      <th>0</th>\n",
              "      <td>570306133677760513</td>\n",
              "      <td>neutral</td>\n",
              "      <td>1.0000</td>\n",
              "      <td>NaN</td>\n",
              "      <td>NaN</td>\n",
              "      <td>Virgin America</td>\n",
              "      <td>NaN</td>\n",
              "      <td>cairdin</td>\n",
              "      <td>NaN</td>\n",
              "      <td>0</td>\n",
              "      <td>@VirginAmerica What @dhepburn said.</td>\n",
              "      <td>NaN</td>\n",
              "      <td>2015-02-24 11:35:52 -0800</td>\n",
              "      <td>NaN</td>\n",
              "      <td>Eastern Time (US &amp; Canada)</td>\n",
              "    </tr>\n",
              "    <tr>\n",
              "      <th>1</th>\n",
              "      <td>570301130888122368</td>\n",
              "      <td>positive</td>\n",
              "      <td>0.3486</td>\n",
              "      <td>NaN</td>\n",
              "      <td>0.0000</td>\n",
              "      <td>Virgin America</td>\n",
              "      <td>NaN</td>\n",
              "      <td>jnardino</td>\n",
              "      <td>NaN</td>\n",
              "      <td>0</td>\n",
              "      <td>@VirginAmerica plus you've added commercials t...</td>\n",
              "      <td>NaN</td>\n",
              "      <td>2015-02-24 11:15:59 -0800</td>\n",
              "      <td>NaN</td>\n",
              "      <td>Pacific Time (US &amp; Canada)</td>\n",
              "    </tr>\n",
              "    <tr>\n",
              "      <th>2</th>\n",
              "      <td>570301083672813571</td>\n",
              "      <td>neutral</td>\n",
              "      <td>0.6837</td>\n",
              "      <td>NaN</td>\n",
              "      <td>NaN</td>\n",
              "      <td>Virgin America</td>\n",
              "      <td>NaN</td>\n",
              "      <td>yvonnalynn</td>\n",
              "      <td>NaN</td>\n",
              "      <td>0</td>\n",
              "      <td>@VirginAmerica I didn't today... Must mean I n...</td>\n",
              "      <td>NaN</td>\n",
              "      <td>2015-02-24 11:15:48 -0800</td>\n",
              "      <td>Lets Play</td>\n",
              "      <td>Central Time (US &amp; Canada)</td>\n",
              "    </tr>\n",
              "    <tr>\n",
              "      <th>3</th>\n",
              "      <td>570301031407624196</td>\n",
              "      <td>negative</td>\n",
              "      <td>1.0000</td>\n",
              "      <td>Bad Flight</td>\n",
              "      <td>0.7033</td>\n",
              "      <td>Virgin America</td>\n",
              "      <td>NaN</td>\n",
              "      <td>jnardino</td>\n",
              "      <td>NaN</td>\n",
              "      <td>0</td>\n",
              "      <td>@VirginAmerica it's really aggressive to blast...</td>\n",
              "      <td>NaN</td>\n",
              "      <td>2015-02-24 11:15:36 -0800</td>\n",
              "      <td>NaN</td>\n",
              "      <td>Pacific Time (US &amp; Canada)</td>\n",
              "    </tr>\n",
              "    <tr>\n",
              "      <th>4</th>\n",
              "      <td>570300817074462722</td>\n",
              "      <td>negative</td>\n",
              "      <td>1.0000</td>\n",
              "      <td>Can't Tell</td>\n",
              "      <td>1.0000</td>\n",
              "      <td>Virgin America</td>\n",
              "      <td>NaN</td>\n",
              "      <td>jnardino</td>\n",
              "      <td>NaN</td>\n",
              "      <td>0</td>\n",
              "      <td>@VirginAmerica and it's a really big bad thing...</td>\n",
              "      <td>NaN</td>\n",
              "      <td>2015-02-24 11:14:45 -0800</td>\n",
              "      <td>NaN</td>\n",
              "      <td>Pacific Time (US &amp; Canada)</td>\n",
              "    </tr>\n",
              "  </tbody>\n",
              "</table>\n",
              "</div>\n",
              "      <button class=\"colab-df-convert\" onclick=\"convertToInteractive('df-eb9bbf16-7eb2-4088-89e5-5f9cd2beefe5')\"\n",
              "              title=\"Convert this dataframe to an interactive table.\"\n",
              "              style=\"display:none;\">\n",
              "        \n",
              "  <svg xmlns=\"http://www.w3.org/2000/svg\" height=\"24px\"viewBox=\"0 0 24 24\"\n",
              "       width=\"24px\">\n",
              "    <path d=\"M0 0h24v24H0V0z\" fill=\"none\"/>\n",
              "    <path d=\"M18.56 5.44l.94 2.06.94-2.06 2.06-.94-2.06-.94-.94-2.06-.94 2.06-2.06.94zm-11 1L8.5 8.5l.94-2.06 2.06-.94-2.06-.94L8.5 2.5l-.94 2.06-2.06.94zm10 10l.94 2.06.94-2.06 2.06-.94-2.06-.94-.94-2.06-.94 2.06-2.06.94z\"/><path d=\"M17.41 7.96l-1.37-1.37c-.4-.4-.92-.59-1.43-.59-.52 0-1.04.2-1.43.59L10.3 9.45l-7.72 7.72c-.78.78-.78 2.05 0 2.83L4 21.41c.39.39.9.59 1.41.59.51 0 1.02-.2 1.41-.59l7.78-7.78 2.81-2.81c.8-.78.8-2.07 0-2.86zM5.41 20L4 18.59l7.72-7.72 1.47 1.35L5.41 20z\"/>\n",
              "  </svg>\n",
              "      </button>\n",
              "      \n",
              "  <style>\n",
              "    .colab-df-container {\n",
              "      display:flex;\n",
              "      flex-wrap:wrap;\n",
              "      gap: 12px;\n",
              "    }\n",
              "\n",
              "    .colab-df-convert {\n",
              "      background-color: #E8F0FE;\n",
              "      border: none;\n",
              "      border-radius: 50%;\n",
              "      cursor: pointer;\n",
              "      display: none;\n",
              "      fill: #1967D2;\n",
              "      height: 32px;\n",
              "      padding: 0 0 0 0;\n",
              "      width: 32px;\n",
              "    }\n",
              "\n",
              "    .colab-df-convert:hover {\n",
              "      background-color: #E2EBFA;\n",
              "      box-shadow: 0px 1px 2px rgba(60, 64, 67, 0.3), 0px 1px 3px 1px rgba(60, 64, 67, 0.15);\n",
              "      fill: #174EA6;\n",
              "    }\n",
              "\n",
              "    [theme=dark] .colab-df-convert {\n",
              "      background-color: #3B4455;\n",
              "      fill: #D2E3FC;\n",
              "    }\n",
              "\n",
              "    [theme=dark] .colab-df-convert:hover {\n",
              "      background-color: #434B5C;\n",
              "      box-shadow: 0px 1px 3px 1px rgba(0, 0, 0, 0.15);\n",
              "      filter: drop-shadow(0px 1px 2px rgba(0, 0, 0, 0.3));\n",
              "      fill: #FFFFFF;\n",
              "    }\n",
              "  </style>\n",
              "\n",
              "      <script>\n",
              "        const buttonEl =\n",
              "          document.querySelector('#df-eb9bbf16-7eb2-4088-89e5-5f9cd2beefe5 button.colab-df-convert');\n",
              "        buttonEl.style.display =\n",
              "          google.colab.kernel.accessAllowed ? 'block' : 'none';\n",
              "\n",
              "        async function convertToInteractive(key) {\n",
              "          const element = document.querySelector('#df-eb9bbf16-7eb2-4088-89e5-5f9cd2beefe5');\n",
              "          const dataTable =\n",
              "            await google.colab.kernel.invokeFunction('convertToInteractive',\n",
              "                                                     [key], {});\n",
              "          if (!dataTable) return;\n",
              "\n",
              "          const docLinkHtml = 'Like what you see? Visit the ' +\n",
              "            '<a target=\"_blank\" href=https://colab.research.google.com/notebooks/data_table.ipynb>data table notebook</a>'\n",
              "            + ' to learn more about interactive tables.';\n",
              "          element.innerHTML = '';\n",
              "          dataTable['output_type'] = 'display_data';\n",
              "          await google.colab.output.renderOutput(dataTable, element);\n",
              "          const docLink = document.createElement('div');\n",
              "          docLink.innerHTML = docLinkHtml;\n",
              "          element.appendChild(docLink);\n",
              "        }\n",
              "      </script>\n",
              "    </div>\n",
              "  </div>\n",
              "  "
            ],
            "text/plain": [
              "             tweet_id airline_sentiment  airline_sentiment_confidence  \\\n",
              "0  570306133677760513           neutral                        1.0000   \n",
              "1  570301130888122368          positive                        0.3486   \n",
              "2  570301083672813571           neutral                        0.6837   \n",
              "3  570301031407624196          negative                        1.0000   \n",
              "4  570300817074462722          negative                        1.0000   \n",
              "\n",
              "  negativereason  negativereason_confidence         airline  \\\n",
              "0            NaN                        NaN  Virgin America   \n",
              "1            NaN                     0.0000  Virgin America   \n",
              "2            NaN                        NaN  Virgin America   \n",
              "3     Bad Flight                     0.7033  Virgin America   \n",
              "4     Can't Tell                     1.0000  Virgin America   \n",
              "\n",
              "  airline_sentiment_gold        name negativereason_gold  retweet_count  \\\n",
              "0                    NaN     cairdin                 NaN              0   \n",
              "1                    NaN    jnardino                 NaN              0   \n",
              "2                    NaN  yvonnalynn                 NaN              0   \n",
              "3                    NaN    jnardino                 NaN              0   \n",
              "4                    NaN    jnardino                 NaN              0   \n",
              "\n",
              "                                                text tweet_coord  \\\n",
              "0                @VirginAmerica What @dhepburn said.         NaN   \n",
              "1  @VirginAmerica plus you've added commercials t...         NaN   \n",
              "2  @VirginAmerica I didn't today... Must mean I n...         NaN   \n",
              "3  @VirginAmerica it's really aggressive to blast...         NaN   \n",
              "4  @VirginAmerica and it's a really big bad thing...         NaN   \n",
              "\n",
              "               tweet_created tweet_location               user_timezone  \n",
              "0  2015-02-24 11:35:52 -0800            NaN  Eastern Time (US & Canada)  \n",
              "1  2015-02-24 11:15:59 -0800            NaN  Pacific Time (US & Canada)  \n",
              "2  2015-02-24 11:15:48 -0800      Lets Play  Central Time (US & Canada)  \n",
              "3  2015-02-24 11:15:36 -0800            NaN  Pacific Time (US & Canada)  \n",
              "4  2015-02-24 11:14:45 -0800            NaN  Pacific Time (US & Canada)  "
            ]
          },
          "execution_count": 4,
          "metadata": {},
          "output_type": "execute_result"
        }
      ],
      "source": [
        "df =pd.read_csv('Tweets.csv')\n",
        "df.head()"
      ]
    },
    {
      "cell_type": "code",
      "execution_count": 5,
      "metadata": {
        "colab": {
          "base_uri": "https://localhost:8080/"
        },
        "execution": {
          "iopub.execute_input": "2022-01-06T07:19:29.802425Z",
          "iopub.status.busy": "2022-01-06T07:19:29.801793Z",
          "iopub.status.idle": "2022-01-06T07:19:29.812622Z",
          "shell.execute_reply": "2022-01-06T07:19:29.811929Z",
          "shell.execute_reply.started": "2022-01-06T07:19:29.802388Z"
        },
        "id": "8L1N0xuOkTxm",
        "outputId": "3612af28-4f3a-4ea1-9870-a1b7e1fc88a1",
        "trusted": true
      },
      "outputs": [
        {
          "data": {
            "text/plain": [
              "array(['neutral', 'positive', 'negative'], dtype=object)"
            ]
          },
          "execution_count": 5,
          "metadata": {},
          "output_type": "execute_result"
        }
      ],
      "source": [
        "# Unique values of sentiment\n",
        "df['airline_sentiment'].unique()"
      ]
    },
    {
      "cell_type": "code",
      "execution_count": 6,
      "metadata": {
        "colab": {
          "base_uri": "https://localhost:8080/",
          "height": 280
        },
        "execution": {
          "iopub.execute_input": "2022-01-06T07:19:29.816619Z",
          "iopub.status.busy": "2022-01-06T07:19:29.815972Z",
          "iopub.status.idle": "2022-01-06T07:19:30.020444Z",
          "shell.execute_reply": "2022-01-06T07:19:30.019659Z",
          "shell.execute_reply.started": "2022-01-06T07:19:29.816591Z"
        },
        "id": "EfPsu_TqkTxn",
        "outputId": "b57e5e90-d023-4296-f96f-f27befbd8d87",
        "trusted": true
      },
      "outputs": [
        {
          "data": {
            "image/png": "[encoded data removed]",
            "text/plain": [
              "<Figure size 432x288 with 1 Axes>"
            ]
          },
          "metadata": {
            "needs_background": "light"
          },
          "output_type": "display_data"
        }
      ],
      "source": [
        "# Unique values of sentiment plot\n",
        "\n",
        "ax = sns.countplot(x=\"airline_sentiment\", data=df)"
      ]
    },
    {
      "cell_type": "markdown",
      "metadata": {
        "id": "Qut-BAxCkTxn"
      },
      "source": [
        "> Positive and neutral tweets are almost equal.\n",
        "\n",
        "> Negative tweets are more than double of neutral or positive sentiments."
      ]
    },
    {
      "cell_type": "code",
      "execution_count": 7,
      "metadata": {
        "colab": {
          "base_uri": "https://localhost:8080/",
          "height": 608
        },
        "execution": {
          "iopub.execute_input": "2022-01-06T07:19:30.021988Z",
          "iopub.status.busy": "2022-01-06T07:19:30.021605Z",
          "iopub.status.idle": "2022-01-06T07:19:30.256143Z",
          "shell.execute_reply": "2022-01-06T07:19:30.255496Z",
          "shell.execute_reply.started": "2022-01-06T07:19:30.021954Z"
        },
        "id": "N2O0_OeakTxn",
        "outputId": "9f92d70d-5be1-43d4-9036-b5a8747c7390",
        "trusted": true
      },
      "outputs": [
        {
          "data": {
            "image/png": "[encoded data removed]",
            "text/plain": [
              "<Figure size 720x720 with 1 Axes>"
            ]
          },
          "metadata": {
            "needs_background": "light"
          },
          "output_type": "display_data"
        }
      ],
      "source": [
        "# Unique values of airline\n",
        "\n",
        "plt.figure(figsize=(10,10))\n",
        "ax = sns.countplot(x=\"airline\", data=df)"
      ]
    },
    {
      "cell_type": "markdown",
      "metadata": {
        "id": "0CEh82y_kTxn"
      },
      "source": [
        "> United has the most number of flights.\n",
        "\n",
        "> Virgin America has the least."
      ]
    },
    {
      "cell_type": "markdown",
      "metadata": {
        "id": "LEq8ZQi-kTxo"
      },
      "source": [
        "### Utility Functions"
      ]
    },
    {
      "cell_type": "code",
      "execution_count": 8,
      "metadata": {
        "execution": {
          "iopub.execute_input": "2022-01-06T07:19:30.257964Z",
          "iopub.status.busy": "2022-01-06T07:19:30.257517Z",
          "iopub.status.idle": "2022-01-06T07:19:30.274647Z",
          "shell.execute_reply": "2022-01-06T07:19:30.273912Z",
          "shell.execute_reply.started": "2022-01-06T07:19:30.257928Z"
        },
        "id": "m5hsFEMGkTxo",
        "trusted": true
      },
      "outputs": [],
      "source": [
        "# I am tokenizing the tweet and also taking tokens from second index onwards as initital to gives airline name and '@' and lowering thm and later making it back a sentence\n",
        "def clean_the_tweet(text):\n",
        "  tokens= nltk.word_tokenize(re.sub(\"[^a-zA-Z]\", \" \",text))\n",
        "  tokens = [token.lower() for token in tokens]\n",
        "  return ' '.join(tokens[2:])\n",
        "\n",
        "def text_process(msg):\n",
        "  nopunc =[char for char in msg if char not in string.punctuation]\n",
        "  nopunc=''.join(nopunc)\n",
        "  return ' '.join([word for word in nopunc.split() if word.lower() not in stopwords.words('english')])\n",
        "\n",
        "def check_scores(clf,X_train, X_test, y_train, y_test):\n",
        "\n",
        "  model=clf.fit(X_train, y_train)\n",
        "  predicted_class=model.predict(X_test)\n",
        "  predicted_class_train=model.predict(X_train)\n",
        "  test_probs = model.predict_proba(X_test)\n",
        "  test_probs = test_probs[:, 1]\n",
        "  yhat = model.predict(X_test)\n",
        "  lr_precision, lr_recall, _ = precision_recall_curve(y_test, test_probs)\n",
        "  lr_f1, lr_auc = f1_score(y_test, yhat), auc(lr_recall, lr_precision)\n",
        "\n",
        "\n",
        "  print('Train confusion matrix is: ',)\n",
        "  print(confusion_matrix(y_train, predicted_class_train))\n",
        "\n",
        "  print()\n",
        "  print('Test confusion matrix is: ')\n",
        "  print(confusion_matrix(y_test, predicted_class))\n",
        "  print()\n",
        "  print(classification_report(y_test,predicted_class)) \n",
        "  print() \n",
        "  train_accuracy = accuracy_score(y_train,predicted_class_train)\n",
        "  test_accuracy = accuracy_score(y_test,predicted_class)\n",
        "\n",
        "  print(\"Train accuracy score: \", train_accuracy)\n",
        "  print(\"Test accuracy score: \",test_accuracy )\n",
        "  print()\n",
        "  train_auc = roc_auc_score(y_train, clf.predict_proba(X_train)[:,1])\n",
        "  test_auc = roc_auc_score(y_test, clf.predict_proba(X_test)[:,1])\n",
        "\n",
        "  print(\"Train ROC-AUC score: \", train_auc)\n",
        "  print(\"Test ROC-AUC score: \", test_auc)\n",
        "  fig, (ax1, ax2) = plt.subplots(1, 2)\n",
        "\n",
        "  ax1.plot(lr_recall, lr_precision)\n",
        "  ax1.set(xlabel=\"Recall\", ylabel=\"Precision\")\n",
        "\n",
        "  plt.subplots_adjust(left=0.5,\n",
        "                    bottom=0.1, \n",
        "                    right=1.5, \n",
        "                    top=0.9, \n",
        "                    wspace=0.4, \n",
        "                    hspace=0.4)\n",
        "  print()\n",
        "  print('Are under Precision-Recall curve:', lr_f1)\n",
        "  \n",
        "  fpr, tpr, _ = roc_curve(y_test, test_probs)\n",
        "\n",
        "\n",
        "  ax2.plot(fpr, tpr)\n",
        "  ax2.set(xlabel='False Positive Rate', ylabel='True Positive Rate')\n",
        "\n",
        "  print(\"Area under ROC-AUC:\", lr_auc)\n",
        "  return train_accuracy, test_accuracy, train_auc, test_auc\n",
        "\n",
        "def grid_search(model, parameters, X_train, Y_train):\n",
        "  #Doing a grid\n",
        "  grid = GridSearchCV(estimator=model,\n",
        "                       param_grid = parameters,\n",
        "                       cv = 2, verbose=2, scoring='roc_auc')\n",
        "  #Fitting the grid \n",
        "  grid.fit(X_train,Y_train)\n",
        "  print()\n",
        "  print()\n",
        "  # Best model found using grid search\n",
        "  optimal_model = grid.best_estimator_\n",
        "  print('Best parameters are: ')\n",
        "  print( grid.best_params_)\n",
        "\n",
        "  return optimal_model\n"
      ]
    },
    {
      "cell_type": "markdown",
      "metadata": {
        "id": "WTnbdoD4kTxo"
      },
      "source": [
        "### Text Preparation"
      ]
    },
    {
      "cell_type": "code",
      "execution_count": 9,
      "metadata": {
        "colab": {
          "base_uri": "https://localhost:8080/",
          "height": 513
        },
        "execution": {
          "iopub.execute_input": "2022-01-06T07:19:30.276071Z",
          "iopub.status.busy": "2022-01-06T07:19:30.275754Z",
          "iopub.status.idle": "2022-01-06T07:19:32.796339Z",
          "shell.execute_reply": "2022-01-06T07:19:32.795646Z",
          "shell.execute_reply.started": "2022-01-06T07:19:30.276036Z"
        },
        "id": "aF2ArSOHkTxp",
        "outputId": "3e6b8c06-5859-4299-c2fe-57f0d3c1c83d",
        "trusted": true
      },
      "outputs": [
        {
          "data": {
            "text/html": [
              "\n",
              "  <div id=\"df-b2caeafe-2b40-4956-9d31-cf7b9417c029\">\n",
              "    <div class=\"colab-df-container\">\n",
              "      <div>\n",
              "<style scoped>\n",
              "    .dataframe tbody tr th:only-of-type {\n",
              "        vertical-align: middle;\n",
              "    }\n",
              "\n",
              "    .dataframe tbody tr th {\n",
              "        vertical-align: top;\n",
              "    }\n",
              "\n",
              "    .dataframe thead th {\n",
              "        text-align: right;\n",
              "    }\n",
              "</style>\n",
              "<table border=\"1\" class=\"dataframe\">\n",
              "  <thead>\n",
              "    <tr style=\"text-align: right;\">\n",
              "      <th></th>\n",
              "      <th>tweet_id</th>\n",
              "      <th>airline_sentiment</th>\n",
              "      <th>airline_sentiment_confidence</th>\n",
              "      <th>negativereason</th>\n",
              "      <th>negativereason_confidence</th>\n",
              "      <th>airline</th>\n",
              "      <th>airline_sentiment_gold</th>\n",
              "      <th>name</th>\n",
              "      <th>negativereason_gold</th>\n",
              "      <th>retweet_count</th>\n",
              "      <th>text</th>\n",
              "      <th>tweet_coord</th>\n",
              "      <th>tweet_created</th>\n",
              "      <th>tweet_location</th>\n",
              "      <th>user_timezone</th>\n",
              "      <th>cleaned_tweet</th>\n",
              "    </tr>\n",
              "  </thead>\n",
              "  <tbody>\n",
              "    <tr>\n",
              "      <th>1</th>\n",
              "      <td>570301130888122368</td>\n",
              "      <td>1</td>\n",
              "      <td>0.3486</td>\n",
              "      <td>NaN</td>\n",
              "      <td>0.0000</td>\n",
              "      <td>Virgin America</td>\n",
              "      <td>NaN</td>\n",
              "      <td>jnardino</td>\n",
              "      <td>NaN</td>\n",
              "      <td>0</td>\n",
              "      <td>@VirginAmerica plus you've added commercials t...</td>\n",
              "      <td>NaN</td>\n",
              "      <td>2015-02-24 11:15:59 -0800</td>\n",
              "      <td>NaN</td>\n",
              "      <td>Pacific Time (US &amp; Canada)</td>\n",
              "      <td>you ve added commercials to the experience tacky</td>\n",
              "    </tr>\n",
              "    <tr>\n",
              "      <th>3</th>\n",
              "      <td>570301031407624196</td>\n",
              "      <td>0</td>\n",
              "      <td>1.0000</td>\n",
              "      <td>Bad Flight</td>\n",
              "      <td>0.7033</td>\n",
              "      <td>Virgin America</td>\n",
              "      <td>NaN</td>\n",
              "      <td>jnardino</td>\n",
              "      <td>NaN</td>\n",
              "      <td>0</td>\n",
              "      <td>@VirginAmerica it's really aggressive to blast...</td>\n",
              "      <td>NaN</td>\n",
              "      <td>2015-02-24 11:15:36 -0800</td>\n",
              "      <td>NaN</td>\n",
              "      <td>Pacific Time (US &amp; Canada)</td>\n",
              "      <td>s really aggressive to blast obnoxious enterta...</td>\n",
              "    </tr>\n",
              "    <tr>\n",
              "      <th>4</th>\n",
              "      <td>570300817074462722</td>\n",
              "      <td>0</td>\n",
              "      <td>1.0000</td>\n",
              "      <td>Can't Tell</td>\n",
              "      <td>1.0000</td>\n",
              "      <td>Virgin America</td>\n",
              "      <td>NaN</td>\n",
              "      <td>jnardino</td>\n",
              "      <td>NaN</td>\n",
              "      <td>0</td>\n",
              "      <td>@VirginAmerica and it's a really big bad thing...</td>\n",
              "      <td>NaN</td>\n",
              "      <td>2015-02-24 11:14:45 -0800</td>\n",
              "      <td>NaN</td>\n",
              "      <td>Pacific Time (US &amp; Canada)</td>\n",
              "      <td>it s a really big bad thing about it</td>\n",
              "    </tr>\n",
              "    <tr>\n",
              "      <th>5</th>\n",
              "      <td>570300767074181121</td>\n",
              "      <td>0</td>\n",
              "      <td>1.0000</td>\n",
              "      <td>Can't Tell</td>\n",
              "      <td>0.6842</td>\n",
              "      <td>Virgin America</td>\n",
              "      <td>NaN</td>\n",
              "      <td>jnardino</td>\n",
              "      <td>NaN</td>\n",
              "      <td>0</td>\n",
              "      <td>@VirginAmerica seriously would pay $30 a fligh...</td>\n",
              "      <td>NaN</td>\n",
              "      <td>2015-02-24 11:14:33 -0800</td>\n",
              "      <td>NaN</td>\n",
              "      <td>Pacific Time (US &amp; Canada)</td>\n",
              "      <td>would pay a flight for seats that didn t have ...</td>\n",
              "    </tr>\n",
              "    <tr>\n",
              "      <th>6</th>\n",
              "      <td>570300616901320704</td>\n",
              "      <td>1</td>\n",
              "      <td>0.6745</td>\n",
              "      <td>NaN</td>\n",
              "      <td>0.0000</td>\n",
              "      <td>Virgin America</td>\n",
              "      <td>NaN</td>\n",
              "      <td>cjmcginnis</td>\n",
              "      <td>NaN</td>\n",
              "      <td>0</td>\n",
              "      <td>@VirginAmerica yes, nearly every time I fly VX...</td>\n",
              "      <td>NaN</td>\n",
              "      <td>2015-02-24 11:13:57 -0800</td>\n",
              "      <td>San Francisco CA</td>\n",
              "      <td>Pacific Time (US &amp; Canada)</td>\n",
              "      <td>nearly every time i fly vx this ear worm won t...</td>\n",
              "    </tr>\n",
              "  </tbody>\n",
              "</table>\n",
              "</div>\n",
              "      <button class=\"colab-df-convert\" onclick=\"convertToInteractive('df-b2caeafe-2b40-4956-9d31-cf7b9417c029')\"\n",
              "              title=\"Convert this dataframe to an interactive table.\"\n",
              "              style=\"display:none;\">\n",
              "        \n",
              "  <svg xmlns=\"http://www.w3.org/2000/svg\" height=\"24px\"viewBox=\"0 0 24 24\"\n",
              "       width=\"24px\">\n",
              "    <path d=\"M0 0h24v24H0V0z\" fill=\"none\"/>\n",
              "    <path d=\"M18.56 5.44l.94 2.06.94-2.06 2.06-.94-2.06-.94-.94-2.06-.94 2.06-2.06.94zm-11 1L8.5 8.5l.94-2.06 2.06-.94-2.06-.94L8.5 2.5l-.94 2.06-2.06.94zm10 10l.94 2.06.94-2.06 2.06-.94-2.06-.94-.94-2.06-.94 2.06-2.06.94z\"/><path d=\"M17.41 7.96l-1.37-1.37c-.4-.4-.92-.59-1.43-.59-.52 0-1.04.2-1.43.59L10.3 9.45l-7.72 7.72c-.78.78-.78 2.05 0 2.83L4 21.41c.39.39.9.59 1.41.59.51 0 1.02-.2 1.41-.59l7.78-7.78 2.81-2.81c.8-.78.8-2.07 0-2.86zM5.41 20L4 18.59l7.72-7.72 1.47 1.35L5.41 20z\"/>\n",
              "  </svg>\n",
              "      </button>\n",
              "      \n",
              "  <style>\n",
              "    .colab-df-container {\n",
              "      display:flex;\n",
              "      flex-wrap:wrap;\n",
              "      gap: 12px;\n",
              "    }\n",
              "\n",
              "    .colab-df-convert {\n",
              "      background-color: #E8F0FE;\n",
              "      border: none;\n",
              "      border-radius: 50%;\n",
              "      cursor: pointer;\n",
              "      display: none;\n",
              "      fill: #1967D2;\n",
              "      height: 32px;\n",
              "      padding: 0 0 0 0;\n",
              "      width: 32px;\n",
              "    }\n",
              "\n",
              "    .colab-df-convert:hover {\n",
              "      background-color: #E2EBFA;\n",
              "      box-shadow: 0px 1px 2px rgba(60, 64, 67, 0.3), 0px 1px 3px 1px rgba(60, 64, 67, 0.15);\n",
              "      fill: #174EA6;\n",
              "    }\n",
              "\n",
              "    [theme=dark] .colab-df-convert {\n",
              "      background-color: #3B4455;\n",
              "      fill: #D2E3FC;\n",
              "    }\n",
              "\n",
              "    [theme=dark] .colab-df-convert:hover {\n",
              "      background-color: #434B5C;\n",
              "      box-shadow: 0px 1px 3px 1px rgba(0, 0, 0, 0.15);\n",
              "      filter: drop-shadow(0px 1px 2px rgba(0, 0, 0, 0.3));\n",
              "      fill: #FFFFFF;\n",
              "    }\n",
              "  </style>\n",
              "\n",
              "      <script>\n",
              "        const buttonEl =\n",
              "          document.querySelector('#df-b2caeafe-2b40-4956-9d31-cf7b9417c029 button.colab-df-convert');\n",
              "        buttonEl.style.display =\n",
              "          google.colab.kernel.accessAllowed ? 'block' : 'none';\n",
              "\n",
              "        async function convertToInteractive(key) {\n",
              "          const element = document.querySelector('#df-b2caeafe-2b40-4956-9d31-cf7b9417c029');\n",
              "          const dataTable =\n",
              "            await google.colab.kernel.invokeFunction('convertToInteractive',\n",
              "                                                     [key], {});\n",
              "          if (!dataTable) return;\n",
              "\n",
              "          const docLinkHtml = 'Like what you see? Visit the ' +\n",
              "            '<a target=\"_blank\" href=https://colab.research.google.com/notebooks/data_table.ipynb>data table notebook</a>'\n",
              "            + ' to learn more about interactive tables.';\n",
              "          element.innerHTML = '';\n",
              "          dataTable['output_type'] = 'display_data';\n",
              "          await google.colab.output.renderOutput(dataTable, element);\n",
              "          const docLink = document.createElement('div');\n",
              "          docLink.innerHTML = docLinkHtml;\n",
              "          element.appendChild(docLink);\n",
              "        }\n",
              "      </script>\n",
              "    </div>\n",
              "  </div>\n",
              "  "
            ],
            "text/plain": [
              "             tweet_id  airline_sentiment  airline_sentiment_confidence  \\\n",
              "1  570301130888122368                  1                        0.3486   \n",
              "3  570301031407624196                  0                        1.0000   \n",
              "4  570300817074462722                  0                        1.0000   \n",
              "5  570300767074181121                  0                        1.0000   \n",
              "6  570300616901320704                  1                        0.6745   \n",
              "\n",
              "  negativereason  negativereason_confidence         airline  \\\n",
              "1            NaN                     0.0000  Virgin America   \n",
              "3     Bad Flight                     0.7033  Virgin America   \n",
              "4     Can't Tell                     1.0000  Virgin America   \n",
              "5     Can't Tell                     0.6842  Virgin America   \n",
              "6            NaN                     0.0000  Virgin America   \n",
              "\n",
              "  airline_sentiment_gold        name negativereason_gold  retweet_count  \\\n",
              "1                    NaN    jnardino                 NaN              0   \n",
              "3                    NaN    jnardino                 NaN              0   \n",
              "4                    NaN    jnardino                 NaN              0   \n",
              "5                    NaN    jnardino                 NaN              0   \n",
              "6                    NaN  cjmcginnis                 NaN              0   \n",
              "\n",
              "                                                text tweet_coord  \\\n",
              "1  @VirginAmerica plus you've added commercials t...         NaN   \n",
              "3  @VirginAmerica it's really aggressive to blast...         NaN   \n",
              "4  @VirginAmerica and it's a really big bad thing...         NaN   \n",
              "5  @VirginAmerica seriously would pay $30 a fligh...         NaN   \n",
              "6  @VirginAmerica yes, nearly every time I fly VX...         NaN   \n",
              "\n",
              "               tweet_created    tweet_location               user_timezone  \\\n",
              "1  2015-02-24 11:15:59 -0800               NaN  Pacific Time (US & Canada)   \n",
              "3  2015-02-24 11:15:36 -0800               NaN  Pacific Time (US & Canada)   \n",
              "4  2015-02-24 11:14:45 -0800               NaN  Pacific Time (US & Canada)   \n",
              "5  2015-02-24 11:14:33 -0800               NaN  Pacific Time (US & Canada)   \n",
              "6  2015-02-24 11:13:57 -0800  San Francisco CA  Pacific Time (US & Canada)   \n",
              "\n",
              "                                       cleaned_tweet  \n",
              "1   you ve added commercials to the experience tacky  \n",
              "3  s really aggressive to blast obnoxious enterta...  \n",
              "4               it s a really big bad thing about it  \n",
              "5  would pay a flight for seats that didn t have ...  \n",
              "6  nearly every time i fly vx this ear worm won t...  "
            ]
          },
          "execution_count": 9,
          "metadata": {},
          "output_type": "execute_result"
        }
      ],
      "source": [
        "# removing neutral tweets\n",
        "\n",
        "df = df[df['airline_sentiment']!='neutral']\n",
        "df['cleaned_tweet'] = df['text'].apply(clean_the_tweet)\n",
        "\n",
        "df.head()\n",
        "df['airline_sentiment'] = df['airline_sentiment'].apply(lambda x: 1 if x =='positive' else 0)\n",
        "df.head()"
      ]
    },
    {
      "cell_type": "code",
      "execution_count": 10,
      "metadata": {
        "colab": {
          "base_uri": "https://localhost:8080/",
          "height": 513
        },
        "execution": {
          "iopub.execute_input": "2022-01-06T07:19:32.798315Z",
          "iopub.status.busy": "2022-01-06T07:19:32.797466Z",
          "iopub.status.idle": "2022-01-06T07:19:55.616686Z",
          "shell.execute_reply": "2022-01-06T07:19:55.616021Z",
          "shell.execute_reply.started": "2022-01-06T07:19:32.798278Z"
        },
        "id": "cPHenaGckTxp",
        "outputId": "7c7b4250-3683-4805-c9cf-5d72ac8693e8",
        "trusted": true
      },
      "outputs": [
        {
          "data": {
            "text/html": [
              "\n",
              "  <div id=\"df-e8c3d481-8e87-4b9b-bc0f-6f4dc2e9113b\">\n",
              "    <div class=\"colab-df-container\">\n",
              "      <div>\n",
              "<style scoped>\n",
              "    .dataframe tbody tr th:only-of-type {\n",
              "        vertical-align: middle;\n",
              "    }\n",
              "\n",
              "    .dataframe tbody tr th {\n",
              "        vertical-align: top;\n",
              "    }\n",
              "\n",
              "    .dataframe thead th {\n",
              "        text-align: right;\n",
              "    }\n",
              "</style>\n",
              "<table border=\"1\" class=\"dataframe\">\n",
              "  <thead>\n",
              "    <tr style=\"text-align: right;\">\n",
              "      <th></th>\n",
              "      <th>tweet_id</th>\n",
              "      <th>airline_sentiment</th>\n",
              "      <th>airline_sentiment_confidence</th>\n",
              "      <th>negativereason</th>\n",
              "      <th>negativereason_confidence</th>\n",
              "      <th>airline</th>\n",
              "      <th>airline_sentiment_gold</th>\n",
              "      <th>name</th>\n",
              "      <th>negativereason_gold</th>\n",
              "      <th>retweet_count</th>\n",
              "      <th>text</th>\n",
              "      <th>tweet_coord</th>\n",
              "      <th>tweet_created</th>\n",
              "      <th>tweet_location</th>\n",
              "      <th>user_timezone</th>\n",
              "      <th>cleaned_tweet</th>\n",
              "    </tr>\n",
              "  </thead>\n",
              "  <tbody>\n",
              "    <tr>\n",
              "      <th>0</th>\n",
              "      <td>570301130888122368</td>\n",
              "      <td>1</td>\n",
              "      <td>0.3486</td>\n",
              "      <td>NaN</td>\n",
              "      <td>0.0000</td>\n",
              "      <td>Virgin America</td>\n",
              "      <td>NaN</td>\n",
              "      <td>jnardino</td>\n",
              "      <td>NaN</td>\n",
              "      <td>0</td>\n",
              "      <td>@VirginAmerica plus you've added commercials t...</td>\n",
              "      <td>NaN</td>\n",
              "      <td>2015-02-24 11:15:59 -0800</td>\n",
              "      <td>NaN</td>\n",
              "      <td>Pacific Time (US &amp; Canada)</td>\n",
              "      <td>added commercials experience tacky</td>\n",
              "    </tr>\n",
              "    <tr>\n",
              "      <th>1</th>\n",
              "      <td>570301031407624196</td>\n",
              "      <td>0</td>\n",
              "      <td>1.0000</td>\n",
              "      <td>Bad Flight</td>\n",
              "      <td>0.7033</td>\n",
              "      <td>Virgin America</td>\n",
              "      <td>NaN</td>\n",
              "      <td>jnardino</td>\n",
              "      <td>NaN</td>\n",
              "      <td>0</td>\n",
              "      <td>@VirginAmerica it's really aggressive to blast...</td>\n",
              "      <td>NaN</td>\n",
              "      <td>2015-02-24 11:15:36 -0800</td>\n",
              "      <td>NaN</td>\n",
              "      <td>Pacific Time (US &amp; Canada)</td>\n",
              "      <td>really aggressive blast obnoxious entertainmen...</td>\n",
              "    </tr>\n",
              "    <tr>\n",
              "      <th>2</th>\n",
              "      <td>570300817074462722</td>\n",
              "      <td>0</td>\n",
              "      <td>1.0000</td>\n",
              "      <td>Can't Tell</td>\n",
              "      <td>1.0000</td>\n",
              "      <td>Virgin America</td>\n",
              "      <td>NaN</td>\n",
              "      <td>jnardino</td>\n",
              "      <td>NaN</td>\n",
              "      <td>0</td>\n",
              "      <td>@VirginAmerica and it's a really big bad thing...</td>\n",
              "      <td>NaN</td>\n",
              "      <td>2015-02-24 11:14:45 -0800</td>\n",
              "      <td>NaN</td>\n",
              "      <td>Pacific Time (US &amp; Canada)</td>\n",
              "      <td>really big bad thing</td>\n",
              "    </tr>\n",
              "    <tr>\n",
              "      <th>3</th>\n",
              "      <td>570300767074181121</td>\n",
              "      <td>0</td>\n",
              "      <td>1.0000</td>\n",
              "      <td>Can't Tell</td>\n",
              "      <td>0.6842</td>\n",
              "      <td>Virgin America</td>\n",
              "      <td>NaN</td>\n",
              "      <td>jnardino</td>\n",
              "      <td>NaN</td>\n",
              "      <td>0</td>\n",
              "      <td>@VirginAmerica seriously would pay $30 a fligh...</td>\n",
              "      <td>NaN</td>\n",
              "      <td>2015-02-24 11:14:33 -0800</td>\n",
              "      <td>NaN</td>\n",
              "      <td>Pacific Time (US &amp; Canada)</td>\n",
              "      <td>would pay flight seats playing really bad thin...</td>\n",
              "    </tr>\n",
              "    <tr>\n",
              "      <th>4</th>\n",
              "      <td>570300616901320704</td>\n",
              "      <td>1</td>\n",
              "      <td>0.6745</td>\n",
              "      <td>NaN</td>\n",
              "      <td>0.0000</td>\n",
              "      <td>Virgin America</td>\n",
              "      <td>NaN</td>\n",
              "      <td>cjmcginnis</td>\n",
              "      <td>NaN</td>\n",
              "      <td>0</td>\n",
              "      <td>@VirginAmerica yes, nearly every time I fly VX...</td>\n",
              "      <td>NaN</td>\n",
              "      <td>2015-02-24 11:13:57 -0800</td>\n",
              "      <td>San Francisco CA</td>\n",
              "      <td>Pacific Time (US &amp; Canada)</td>\n",
              "      <td>nearly every time fly vx ear worm go away</td>\n",
              "    </tr>\n",
              "  </tbody>\n",
              "</table>\n",
              "</div>\n",
              "      <button class=\"colab-df-convert\" onclick=\"convertToInteractive('df-e8c3d481-8e87-4b9b-bc0f-6f4dc2e9113b')\"\n",
              "              title=\"Convert this dataframe to an interactive table.\"\n",
              "              style=\"display:none;\">\n",
              "        \n",
              "  <svg xmlns=\"http://www.w3.org/2000/svg\" height=\"24px\"viewBox=\"0 0 24 24\"\n",
              "       width=\"24px\">\n",
              "    <path d=\"M0 0h24v24H0V0z\" fill=\"none\"/>\n",
              "    <path d=\"M18.56 5.44l.94 2.06.94-2.06 2.06-.94-2.06-.94-.94-2.06-.94 2.06-2.06.94zm-11 1L8.5 8.5l.94-2.06 2.06-.94-2.06-.94L8.5 2.5l-.94 2.06-2.06.94zm10 10l.94 2.06.94-2.06 2.06-.94-2.06-.94-.94-2.06-.94 2.06-2.06.94z\"/><path d=\"M17.41 7.96l-1.37-1.37c-.4-.4-.92-.59-1.43-.59-.52 0-1.04.2-1.43.59L10.3 9.45l-7.72 7.72c-.78.78-.78 2.05 0 2.83L4 21.41c.39.39.9.59 1.41.59.51 0 1.02-.2 1.41-.59l7.78-7.78 2.81-2.81c.8-.78.8-2.07 0-2.86zM5.41 20L4 18.59l7.72-7.72 1.47 1.35L5.41 20z\"/>\n",
              "  </svg>\n",
              "      </button>\n",
              "      \n",
              "  <style>\n",
              "    .colab-df-container {\n",
              "      display:flex;\n",
              "      flex-wrap:wrap;\n",
              "      gap: 12px;\n",
              "    }\n",
              "\n",
              "    .colab-df-convert {\n",
              "      background-color: #E8F0FE;\n",
              "      border: none;\n",
              "      border-radius: 50%;\n",
              "      cursor: pointer;\n",
              "      display: none;\n",
              "      fill: #1967D2;\n",
              "      height: 32px;\n",
              "      padding: 0 0 0 0;\n",
              "      width: 32px;\n",
              "    }\n",
              "\n",
              "    .colab-df-convert:hover {\n",
              "      background-color: #E2EBFA;\n",
              "      box-shadow: 0px 1px 2px rgba(60, 64, 67, 0.3), 0px 1px 3px 1px rgba(60, 64, 67, 0.15);\n",
              "      fill: #174EA6;\n",
              "    }\n",
              "\n",
              "    [theme=dark] .colab-df-convert {\n",
              "      background-color: #3B4455;\n",
              "      fill: #D2E3FC;\n",
              "    }\n",
              "\n",
              "    [theme=dark] .colab-df-convert:hover {\n",
              "      background-color: #434B5C;\n",
              "      box-shadow: 0px 1px 3px 1px rgba(0, 0, 0, 0.15);\n",
              "      filter: drop-shadow(0px 1px 2px rgba(0, 0, 0, 0.3));\n",
              "      fill: #FFFFFF;\n",
              "    }\n",
              "  </style>\n",
              "\n",
              "      <script>\n",
              "        const buttonEl =\n",
              "          document.querySelector('#df-e8c3d481-8e87-4b9b-bc0f-6f4dc2e9113b button.colab-df-convert');\n",
              "        buttonEl.style.display =\n",
              "          google.colab.kernel.accessAllowed ? 'block' : 'none';\n",
              "\n",
              "        async function convertToInteractive(key) {\n",
              "          const element = document.querySelector('#df-e8c3d481-8e87-4b9b-bc0f-6f4dc2e9113b');\n",
              "          const dataTable =\n",
              "            await google.colab.kernel.invokeFunction('convertToInteractive',\n",
              "                                                     [key], {});\n",
              "          if (!dataTable) return;\n",
              "\n",
              "          const docLinkHtml = 'Like what you see? Visit the ' +\n",
              "            '<a target=\"_blank\" href=https://colab.research.google.com/notebooks/data_table.ipynb>data table notebook</a>'\n",
              "            + ' to learn more about interactive tables.';\n",
              "          element.innerHTML = '';\n",
              "          dataTable['output_type'] = 'display_data';\n",
              "          await google.colab.output.renderOutput(dataTable, element);\n",
              "          const docLink = document.createElement('div');\n",
              "          docLink.innerHTML = docLinkHtml;\n",
              "          element.appendChild(docLink);\n",
              "        }\n",
              "      </script>\n",
              "    </div>\n",
              "  </div>\n",
              "  "
            ],
            "text/plain": [
              "             tweet_id  airline_sentiment  airline_sentiment_confidence  \\\n",
              "0  570301130888122368                  1                        0.3486   \n",
              "1  570301031407624196                  0                        1.0000   \n",
              "2  570300817074462722                  0                        1.0000   \n",
              "3  570300767074181121                  0                        1.0000   \n",
              "4  570300616901320704                  1                        0.6745   \n",
              "\n",
              "  negativereason  negativereason_confidence         airline  \\\n",
              "0            NaN                     0.0000  Virgin America   \n",
              "1     Bad Flight                     0.7033  Virgin America   \n",
              "2     Can't Tell                     1.0000  Virgin America   \n",
              "3     Can't Tell                     0.6842  Virgin America   \n",
              "4            NaN                     0.0000  Virgin America   \n",
              "\n",
              "  airline_sentiment_gold        name negativereason_gold  retweet_count  \\\n",
              "0                    NaN    jnardino                 NaN              0   \n",
              "1                    NaN    jnardino                 NaN              0   \n",
              "2                    NaN    jnardino                 NaN              0   \n",
              "3                    NaN    jnardino                 NaN              0   \n",
              "4                    NaN  cjmcginnis                 NaN              0   \n",
              "\n",
              "                                                text tweet_coord  \\\n",
              "0  @VirginAmerica plus you've added commercials t...         NaN   \n",
              "1  @VirginAmerica it's really aggressive to blast...         NaN   \n",
              "2  @VirginAmerica and it's a really big bad thing...         NaN   \n",
              "3  @VirginAmerica seriously would pay $30 a fligh...         NaN   \n",
              "4  @VirginAmerica yes, nearly every time I fly VX...         NaN   \n",
              "\n",
              "               tweet_created    tweet_location               user_timezone  \\\n",
              "0  2015-02-24 11:15:59 -0800               NaN  Pacific Time (US & Canada)   \n",
              "1  2015-02-24 11:15:36 -0800               NaN  Pacific Time (US & Canada)   \n",
              "2  2015-02-24 11:14:45 -0800               NaN  Pacific Time (US & Canada)   \n",
              "3  2015-02-24 11:14:33 -0800               NaN  Pacific Time (US & Canada)   \n",
              "4  2015-02-24 11:13:57 -0800  San Francisco CA  Pacific Time (US & Canada)   \n",
              "\n",
              "                                       cleaned_tweet  \n",
              "0                 added commercials experience tacky  \n",
              "1  really aggressive blast obnoxious entertainmen...  \n",
              "2                               really big bad thing  \n",
              "3  would pay flight seats playing really bad thin...  \n",
              "4          nearly every time fly vx ear worm go away  "
            ]
          },
          "execution_count": 10,
          "metadata": {},
          "output_type": "execute_result"
        }
      ],
      "source": [
        "# Cleaning the tweets, removing punctuation marks\n",
        "df['cleaned_tweet'] = df['cleaned_tweet'].apply(text_process)\n",
        "df.reset_index(drop=True, inplace = True)\n",
        "df.head()"
      ]
    },
    {
      "cell_type": "code",
      "execution_count": 11,
      "metadata": {
        "colab": {
          "base_uri": "https://localhost:8080/"
        },
        "execution": {
          "iopub.execute_input": "2022-01-06T07:19:55.618486Z",
          "iopub.status.busy": "2022-01-06T07:19:55.618017Z",
          "iopub.status.idle": "2022-01-06T07:19:55.625580Z",
          "shell.execute_reply": "2022-01-06T07:19:55.624831Z",
          "shell.execute_reply.started": "2022-01-06T07:19:55.618450Z"
        },
        "id": "3THT_dSwkTxp",
        "outputId": "3640ada7-d618-440c-8adc-6f9d7f9f4cf0",
        "trusted": true
      },
      "outputs": [
        {
          "data": {
            "text/plain": [
              "array([1, 0])"
            ]
          },
          "execution_count": 11,
          "metadata": {},
          "output_type": "execute_result"
        }
      ],
      "source": [
        "df['airline_sentiment'].unique()"
      ]
    },
    {
      "cell_type": "markdown",
      "metadata": {
        "id": "AJYb86RgkTxq"
      },
      "source": [
        "### Base SVM model with TF-IDF"
      ]
    },
    {
      "cell_type": "code",
      "execution_count": 12,
      "metadata": {
        "execution": {
          "iopub.execute_input": "2022-01-06T07:19:55.629518Z",
          "iopub.status.busy": "2022-01-06T07:19:55.629290Z",
          "iopub.status.idle": "2022-01-06T07:19:55.815056Z",
          "shell.execute_reply": "2022-01-06T07:19:55.814410Z",
          "shell.execute_reply.started": "2022-01-06T07:19:55.629494Z"
        },
        "id": "unWIeoIckTxq",
        "trusted": true
      },
      "outputs": [],
      "source": [
        "# Creating object of TF-IDF vectorizer\n",
        "vectorizer = TfidfVectorizer(use_idf=True, lowercase=True)\n",
        "X_tf_idf= vectorizer.fit_transform(df.cleaned_tweet)\n",
        "x_train, x_test, y_train, y_test = train_test_split(X_tf_idf, df['airline_sentiment'], random_state=42)\n"
      ]
    },
    {
      "cell_type": "code",
      "execution_count": 13,
      "metadata": {
        "colab": {
          "base_uri": "https://localhost:8080/",
          "height": 743
        },
        "execution": {
          "iopub.execute_input": "2022-01-06T07:19:55.816616Z",
          "iopub.status.busy": "2022-01-06T07:19:55.816356Z",
          "iopub.status.idle": "2022-01-06T07:20:38.253946Z",
          "shell.execute_reply": "2022-01-06T07:20:38.253164Z",
          "shell.execute_reply.started": "2022-01-06T07:19:55.816584Z"
        },
        "id": "KYtJ2avmkTxq",
        "outputId": "bd4e8d50-2ce4-4ccd-b773-d1c71c7a9d0a",
        "trusted": true
      },
      "outputs": [
        {
          "name": "stdout",
          "output_type": "stream",
          "text": [
            "Train confusion matrix is: \n",
            "[[6824   31]\n",
            " [ 151 1649]]\n",
            "\n",
            "Test confusion matrix is: \n",
            "[[2291   32]\n",
            " [ 296  267]]\n",
            "\n",
            "              precision    recall  f1-score   support\n",
            "\n",
            "           0       0.89      0.99      0.93      2323\n",
            "           1       0.89      0.47      0.62       563\n",
            "\n",
            "    accuracy                           0.89      2886\n",
            "   macro avg       0.89      0.73      0.78      2886\n",
            "weighted avg       0.89      0.89      0.87      2886\n",
            "\n",
            "\n",
            "Train accuracy score:  0.9789716926632005\n",
            "Test accuracy score:  0.8863478863478863\n",
            "\n",
            "Train ROC-AUC score:  0.9969059080962801\n",
            "Test ROC-AUC score:  0.929176839222265\n",
            "\n",
            "Are under Precision-Recall curve: 0.6194895591647333\n",
            "Area under ROC-AUC: 0.8049877491075016\n"
          ]
        },
        {
          "data": {
            "image/png": "[encoded data removed]",
            "text/plain": [
              "<Figure size 432x288 with 2 Axes>"
            ]
          },
          "metadata": {
            "needs_background": "light"
          },
          "output_type": "display_data"
        }
      ],
      "source": [
        "\n",
        "SVM = svm.SVC( probability=True)\n",
        "s_train_accuracy, s_test_accuracy, s_train_auc, s_test_auc = check_scores(SVM,x_train, x_test, y_train, y_test)\n"
      ]
    },
    {
      "cell_type": "markdown",
      "metadata": {
        "id": "_o7sZZ0NkTxq"
      },
      "source": [
        "> With increase in FPR, TPR also increases.\n",
        "\n",
        "> With increase in recall, precision decreases."
      ]
    },
    {
      "cell_type": "markdown",
      "metadata": {
        "id": "d-x7N8rCkTxr"
      },
      "source": [
        "### After optimizing the hyperparameters with TF-IDF"
      ]
    },
    {
      "cell_type": "code",
      "execution_count": 14,
      "metadata": {
        "colab": {
          "base_uri": "https://localhost:8080/"
        },
        "execution": {
          "iopub.execute_input": "2022-01-06T07:20:38.255821Z",
          "iopub.status.busy": "2022-01-06T07:20:38.255355Z",
          "iopub.status.idle": "2022-01-06T07:24:43.964681Z",
          "shell.execute_reply": "2022-01-06T07:24:43.963913Z",
          "shell.execute_reply.started": "2022-01-06T07:20:38.255786Z"
        },
        "id": "vBSGShoGkTxr",
        "outputId": "714f2865-7b12-412f-e954-5dd2025fccaf",
        "trusted": true
      },
      "outputs": [
        {
          "name": "stdout",
          "output_type": "stream",
          "text": [
            "Fitting 2 folds for each of 18 candidates, totalling 36 fits\n",
            "[CV] END ..................C=0.1, gamma=scale, kernel=linear; total time=   6.1s\n",
            "[CV] END ..................C=0.1, gamma=scale, kernel=linear; total time=   6.2s\n",
            "[CV] END .....................C=0.1, gamma=scale, kernel=rbf; total time=  10.0s\n",
            "[CV] END .....................C=0.1, gamma=scale, kernel=rbf; total time=   9.8s\n",
            "[CV] END .................C=0.1, gamma=scale, kernel=sigmoid; total time=   6.8s\n",
            "[CV] END .................C=0.1, gamma=scale, kernel=sigmoid; total time=   5.1s\n",
            "[CV] END ...................C=0.1, gamma=auto, kernel=linear; total time=   6.5s\n",
            "[CV] END ...................C=0.1, gamma=auto, kernel=linear; total time=   6.5s\n",
            "[CV] END ......................C=0.1, gamma=auto, kernel=rbf; total time=   5.7s\n",
            "[CV] END ......................C=0.1, gamma=auto, kernel=rbf; total time=   4.4s\n",
            "[CV] END ..................C=0.1, gamma=auto, kernel=sigmoid; total time=   4.5s\n",
            "[CV] END ..................C=0.1, gamma=auto, kernel=sigmoid; total time=   4.4s\n",
            "[CV] END ....................C=1, gamma=scale, kernel=linear; total time=   6.0s\n",
            "[CV] END ....................C=1, gamma=scale, kernel=linear; total time=   8.3s\n",
            "[CV] END .......................C=1, gamma=scale, kernel=rbf; total time=  12.5s\n",
            "[CV] END .......................C=1, gamma=scale, kernel=rbf; total time=   8.5s\n",
            "[CV] END ...................C=1, gamma=scale, kernel=sigmoid; total time=   5.2s\n",
            "[CV] END ...................C=1, gamma=scale, kernel=sigmoid; total time=   4.5s\n",
            "[CV] END .....................C=1, gamma=auto, kernel=linear; total time=   5.6s\n",
            "[CV] END .....................C=1, gamma=auto, kernel=linear; total time=   5.4s\n",
            "[CV] END ........................C=1, gamma=auto, kernel=rbf; total time=   3.9s\n",
            "[CV] END ........................C=1, gamma=auto, kernel=rbf; total time=   4.5s\n",
            "[CV] END ....................C=1, gamma=auto, kernel=sigmoid; total time=   3.7s\n",
            "[CV] END ....................C=1, gamma=auto, kernel=sigmoid; total time=   3.6s\n",
            "[CV] END ...................C=10, gamma=scale, kernel=linear; total time=   5.7s\n",
            "[CV] END ...................C=10, gamma=scale, kernel=linear; total time=   5.2s\n",
            "[CV] END ......................C=10, gamma=scale, kernel=rbf; total time=   9.9s\n",
            "[CV] END ......................C=10, gamma=scale, kernel=rbf; total time=   9.8s\n",
            "[CV] END ..................C=10, gamma=scale, kernel=sigmoid; total time=   6.5s\n",
            "[CV] END ..................C=10, gamma=scale, kernel=sigmoid; total time=   7.2s\n",
            "[CV] END ....................C=10, gamma=auto, kernel=linear; total time=   5.6s\n",
            "[CV] END ....................C=10, gamma=auto, kernel=linear; total time=   5.7s\n",
            "[CV] END .......................C=10, gamma=auto, kernel=rbf; total time=   5.0s\n",
            "[CV] END .......................C=10, gamma=auto, kernel=rbf; total time=   5.6s\n",
            "[CV] END ...................C=10, gamma=auto, kernel=sigmoid; total time=   4.5s\n",
            "[CV] END ...................C=10, gamma=auto, kernel=sigmoid; total time=   4.4s\n",
            "\n",
            "\n",
            "Best parameters are: \n",
            "{'C': 10, 'gamma': 'scale', 'kernel': 'rbf'}\n"
          ]
        }
      ],
      "source": [
        "# Tuning the hyperparameters\n",
        "parameters ={\n",
        "    \"C\":[0.1,1,10],\n",
        "    \"kernel\":['linear', 'rbf', 'sigmoid'],\n",
        "    \"gamma\":['scale', 'auto']\n",
        "}\n",
        "\n",
        "svm_optimal = grid_search(svm.SVC(probability=True), parameters,x_train, y_train)"
      ]
    },
    {
      "cell_type": "code",
      "execution_count": 15,
      "metadata": {
        "colab": {
          "base_uri": "https://localhost:8080/",
          "height": 743
        },
        "execution": {
          "iopub.execute_input": "2022-01-06T07:24:43.966078Z",
          "iopub.status.busy": "2022-01-06T07:24:43.965825Z",
          "iopub.status.idle": "2022-01-06T07:25:36.927423Z",
          "shell.execute_reply": "2022-01-06T07:25:36.926768Z",
          "shell.execute_reply.started": "2022-01-06T07:24:43.966043Z"
        },
        "id": "dVuxP-0JkTxr",
        "outputId": "e4be7790-d0d9-49ed-ff53-7ccd8e0abe68",
        "trusted": true
      },
      "outputs": [
        {
          "name": "stdout",
          "output_type": "stream",
          "text": [
            "Train confusion matrix is: \n",
            "[[6829   26]\n",
            " [   5 1795]]\n",
            "\n",
            "Test confusion matrix is: \n",
            "[[2272   51]\n",
            " [ 245  318]]\n",
            "\n",
            "              precision    recall  f1-score   support\n",
            "\n",
            "           0       0.90      0.98      0.94      2323\n",
            "           1       0.86      0.56      0.68       563\n",
            "\n",
            "    accuracy                           0.90      2886\n",
            "   macro avg       0.88      0.77      0.81      2886\n",
            "weighted avg       0.89      0.90      0.89      2886\n",
            "\n",
            "\n",
            "Train accuracy score:  0.996418255343732\n",
            "Test accuracy score:  0.8974358974358975\n",
            "\n",
            "Train ROC-AUC score:  0.9987310154793744\n",
            "Test ROC-AUC score:  0.9287700644340439\n",
            "\n",
            "Are under Precision-Recall curve: 0.6824034334763949\n",
            "Area under ROC-AUC: 0.8075662425627093\n"
          ]
        },
        {
          "data": {
            "image/png": "[encoded data removed]",
            "text/plain": [
              "<Figure size 432x288 with 2 Axes>"
            ]
          },
          "metadata": {
            "needs_background": "light"
          },
          "output_type": "display_data"
        }
      ],
      "source": [
        "so_train_accuracy, so_test_accuracy, so_train_auc, so_test_auc = check_scores(svm_optimal,x_train, x_test, y_train, y_test)"
      ]
    },
    {
      "cell_type": "markdown",
      "metadata": {
        "id": "igNkQqZ-kTxr"
      },
      "source": [
        "> With increase in recall, preciison decreases which makes sense also.\n",
        "\n",
        "> With increase in TPR, FPR inceases."
      ]
    },
    {
      "cell_type": "markdown",
      "metadata": {
        "id": "zxCe649WkTxr"
      },
      "source": [
        "### Using Multinomial Naive Bayes"
      ]
    },
    {
      "cell_type": "code",
      "execution_count": 16,
      "metadata": {
        "colab": {
          "base_uri": "https://localhost:8080/",
          "height": 743
        },
        "execution": {
          "iopub.execute_input": "2022-01-06T07:25:36.928908Z",
          "iopub.status.busy": "2022-01-06T07:25:36.928675Z",
          "iopub.status.idle": "2022-01-06T07:25:37.388852Z",
          "shell.execute_reply": "2022-01-06T07:25:37.388174Z",
          "shell.execute_reply.started": "2022-01-06T07:25:36.928876Z"
        },
        "id": "vqUvtbYzkTxs",
        "outputId": "446ac32e-890b-4e69-ba92-db3b35b4b566",
        "trusted": true
      },
      "outputs": [
        {
          "name": "stdout",
          "output_type": "stream",
          "text": [
            "Train confusion matrix is: \n",
            "[[6853    2]\n",
            " [1296  504]]\n",
            "\n",
            "Test confusion matrix is: \n",
            "[[2318    5]\n",
            " [ 474   89]]\n",
            "\n",
            "              precision    recall  f1-score   support\n",
            "\n",
            "           0       0.83      1.00      0.91      2323\n",
            "           1       0.95      0.16      0.27       563\n",
            "\n",
            "    accuracy                           0.83      2886\n",
            "   macro avg       0.89      0.58      0.59      2886\n",
            "weighted avg       0.85      0.83      0.78      2886\n",
            "\n",
            "\n",
            "Train accuracy score:  0.8500288850375506\n",
            "Test accuracy score:  0.834026334026334\n",
            "\n",
            "Train ROC-AUC score:  0.9561105438041981\n",
            "Test ROC-AUC score:  0.9013005324009118\n",
            "\n",
            "Are under Precision-Recall curve: 0.2709284627092846\n",
            "Area under ROC-AUC: 0.7374839454006489\n"
          ]
        },
        {
          "data": {
            "image/png": "[encoded data removed]",
            "text/plain": [
              "<Figure size 432x288 with 2 Axes>"
            ]
          },
          "metadata": {
            "needs_background": "light"
          },
          "output_type": "display_data"
        }
      ],
      "source": [
        "m_train_accuracy, m_test_accuracy, m_train_auc, m_test_auc = check_scores(MultinomialNB(),x_train, x_test, y_train, y_test)\n"
      ]
    },
    {
      "cell_type": "markdown",
      "metadata": {
        "id": "Hwm1oiwJkTxs"
      },
      "source": [
        "### Using Gaussian Naive Bayes"
      ]
    },
    {
      "cell_type": "code",
      "execution_count": 17,
      "metadata": {
        "colab": {
          "base_uri": "https://localhost:8080/",
          "height": 743
        },
        "execution": {
          "iopub.execute_input": "2022-01-06T07:25:37.394608Z",
          "iopub.status.busy": "2022-01-06T07:25:37.392697Z",
          "iopub.status.idle": "2022-01-06T07:25:43.719398Z",
          "shell.execute_reply": "2022-01-06T07:25:43.718722Z",
          "shell.execute_reply.started": "2022-01-06T07:25:37.394570Z"
        },
        "id": "oLxkLFjRkTxs",
        "outputId": "db7446ad-f766-4ad7-fa84-c82bf8a1f0c0",
        "trusted": true
      },
      "outputs": [
        {
          "name": "stdout",
          "output_type": "stream",
          "text": [
            "Train confusion matrix is: \n",
            "[[5543 1312]\n",
            " [   0 1800]]\n",
            "\n",
            "Test confusion matrix is: \n",
            "[[1623  700]\n",
            " [ 181  382]]\n",
            "\n",
            "              precision    recall  f1-score   support\n",
            "\n",
            "           0       0.90      0.70      0.79      2323\n",
            "           1       0.35      0.68      0.46       563\n",
            "\n",
            "    accuracy                           0.69      2886\n",
            "   macro avg       0.63      0.69      0.63      2886\n",
            "weighted avg       0.79      0.69      0.72      2886\n",
            "\n",
            "\n",
            "Train accuracy score:  0.8484113229347198\n",
            "Test accuracy score:  0.6947331947331947\n",
            "\n",
            "Train ROC-AUC score:  0.9043034281546316\n",
            "Test ROC-AUC score:  0.688586755810495\n",
            "\n",
            "Are under Precision-Recall curve: 0.4644376899696049\n",
            "Area under ROC-AUC: 0.5471372315951626\n"
          ]
        },
        {
          "data": {
            "image/png": "[encoded data removed]",
            "text/plain": [
              "<Figure size 432x288 with 2 Axes>"
            ]
          },
          "metadata": {
            "needs_background": "light"
          },
          "output_type": "display_data"
        }
      ],
      "source": [
        "g_train_accuracy, g_test_accuracy, g_train_auc, g_test_auc=check_scores(GaussianNB(),x_train.toarray(), x_test.toarray(), y_train, y_test)\n"
      ]
    },
    {
      "cell_type": "markdown",
      "metadata": {
        "id": "ofViqF9qkTxs"
      },
      "source": [
        "> It is interesting to see in Naive Bayes, we are getting linear relationship."
      ]
    },
    {
      "cell_type": "markdown",
      "metadata": {
        "id": "ya-HzvuQkTxs"
      },
      "source": [
        "### Using AdaBoost"
      ]
    },
    {
      "cell_type": "markdown",
      "metadata": {
        "id": "3-rglJb-kTxs"
      },
      "source": [
        "> **base estimator here is: decision stump**"
      ]
    },
    {
      "cell_type": "code",
      "execution_count": 18,
      "metadata": {
        "colab": {
          "base_uri": "https://localhost:8080/",
          "height": 743
        },
        "execution": {
          "iopub.execute_input": "2022-01-06T07:25:43.721065Z",
          "iopub.status.busy": "2022-01-06T07:25:43.720796Z",
          "iopub.status.idle": "2022-01-06T07:25:47.215851Z",
          "shell.execute_reply": "2022-01-06T07:25:47.215079Z",
          "shell.execute_reply.started": "2022-01-06T07:25:43.721026Z"
        },
        "id": "XgLQZUInkTxt",
        "outputId": "bf53f4f1-19b9-48fd-f52b-3af5befd4846",
        "trusted": true
      },
      "outputs": [
        {
          "name": "stdout",
          "output_type": "stream",
          "text": [
            "Train confusion matrix is: \n",
            "[[6655  200]\n",
            " [1012  788]]\n",
            "\n",
            "Test confusion matrix is: \n",
            "[[2251   72]\n",
            " [ 328  235]]\n",
            "\n",
            "              precision    recall  f1-score   support\n",
            "\n",
            "           0       0.87      0.97      0.92      2323\n",
            "           1       0.77      0.42      0.54       563\n",
            "\n",
            "    accuracy                           0.86      2886\n",
            "   macro avg       0.82      0.69      0.73      2886\n",
            "weighted avg       0.85      0.86      0.84      2886\n",
            "\n",
            "\n",
            "Train accuracy score:  0.8599653379549393\n",
            "Test accuracy score:  0.8613998613998614\n",
            "\n",
            "Train ROC-AUC score:  0.8689482940270687\n",
            "Test ROC-AUC score:  0.8373803091947158\n",
            "\n",
            "Are under Precision-Recall curve: 0.5402298850574713\n",
            "Area under ROC-AUC: 0.6298876361965743\n"
          ]
        },
        {
          "data": {
            "image/png": "[encoded data removed]",
            "text/plain": [
              "<Figure size 432x288 with 2 Axes>"
            ]
          },
          "metadata": {
            "needs_background": "light"
          },
          "output_type": "display_data"
        }
      ],
      "source": [
        "a_train_accuracy, a_test_accuracy, a_train_auc, a_test_auc=check_scores(AdaBoostClassifier(),x_train,x_test, y_train, y_test)\n"
      ]
    },
    {
      "cell_type": "code",
      "execution_count": 19,
      "metadata": {
        "colab": {
          "base_uri": "https://localhost:8080/"
        },
        "execution": {
          "iopub.execute_input": "2022-01-06T07:25:47.217357Z",
          "iopub.status.busy": "2022-01-06T07:25:47.217096Z",
          "iopub.status.idle": "2022-01-06T07:31:35.356287Z",
          "shell.execute_reply": "2022-01-06T07:31:35.355511Z",
          "shell.execute_reply.started": "2022-01-06T07:25:47.217328Z"
        },
        "id": "IJ11YMXTkTxt",
        "outputId": "352124ef-640c-496f-d7f3-694e94a03944",
        "trusted": true
      },
      "outputs": [
        {
          "name": "stdout",
          "output_type": "stream",
          "text": [
            "Fitting 2 folds for each of 40 candidates, totalling 80 fits\n",
            "[CV] END algorithm=SAMME, learning_rate=0.0001, n_estimators=10; total time=   0.2s\n",
            "[CV] END algorithm=SAMME, learning_rate=0.0001, n_estimators=10; total time=   0.2s\n",
            "[CV] END algorithm=SAMME, learning_rate=0.0001, n_estimators=50; total time=   1.2s\n",
            "[CV] END algorithm=SAMME, learning_rate=0.0001, n_estimators=50; total time=   1.2s\n",
            "[CV] END algorithm=SAMME, learning_rate=0.0001, n_estimators=100; total time=   3.2s\n",
            "[CV] END algorithm=SAMME, learning_rate=0.0001, n_estimators=100; total time=   2.3s\n",
            "[CV] END algorithm=SAMME, learning_rate=0.0001, n_estimators=500; total time=  12.5s\n",
            "[CV] END algorithm=SAMME, learning_rate=0.0001, n_estimators=500; total time=  12.5s\n",
            "[CV] END algorithm=SAMME, learning_rate=0.001, n_estimators=10; total time=   0.2s\n",
            "[CV] END algorithm=SAMME, learning_rate=0.001, n_estimators=10; total time=   0.2s\n",
            "[CV] END algorithm=SAMME, learning_rate=0.001, n_estimators=50; total time=   1.2s\n",
            "[CV] END algorithm=SAMME, learning_rate=0.001, n_estimators=50; total time=   1.2s\n",
            "[CV] END algorithm=SAMME, learning_rate=0.001, n_estimators=100; total time=   2.3s\n",
            "[CV] END algorithm=SAMME, learning_rate=0.001, n_estimators=100; total time=   2.8s\n",
            "[CV] END algorithm=SAMME, learning_rate=0.001, n_estimators=500; total time=  12.4s\n",
            "[CV] END algorithm=SAMME, learning_rate=0.001, n_estimators=500; total time=  12.4s\n",
            "[CV] END algorithm=SAMME, learning_rate=0.01, n_estimators=10; total time=   0.4s\n",
            "[CV] END algorithm=SAMME, learning_rate=0.01, n_estimators=10; total time=   0.4s\n",
            "[CV] END algorithm=SAMME, learning_rate=0.01, n_estimators=50; total time=   1.1s\n",
            "[CV] END algorithm=SAMME, learning_rate=0.01, n_estimators=50; total time=   1.2s\n",
            "[CV] END algorithm=SAMME, learning_rate=0.01, n_estimators=100; total time=   2.3s\n",
            "[CV] END algorithm=SAMME, learning_rate=0.01, n_estimators=100; total time=   2.3s\n",
            "[CV] END algorithm=SAMME, learning_rate=0.01, n_estimators=500; total time=  12.5s\n",
            "[CV] END algorithm=SAMME, learning_rate=0.01, n_estimators=500; total time=  12.3s\n",
            "[CV] END algorithm=SAMME, learning_rate=0.1, n_estimators=10; total time=   0.2s\n",
            "[CV] END algorithm=SAMME, learning_rate=0.1, n_estimators=10; total time=   0.2s\n",
            "[CV] END algorithm=SAMME, learning_rate=0.1, n_estimators=50; total time=   1.1s\n",
            "[CV] END algorithm=SAMME, learning_rate=0.1, n_estimators=50; total time=   1.2s\n",
            "[CV] END algorithm=SAMME, learning_rate=0.1, n_estimators=100; total time=   3.1s\n",
            "[CV] END algorithm=SAMME, learning_rate=0.1, n_estimators=100; total time=   2.3s\n",
            "[CV] END algorithm=SAMME, learning_rate=0.1, n_estimators=500; total time=  12.6s\n",
            "[CV] END algorithm=SAMME, learning_rate=0.1, n_estimators=500; total time=  12.3s\n",
            "[CV] END algorithm=SAMME, learning_rate=1.0, n_estimators=10; total time=   0.2s\n",
            "[CV] END algorithm=SAMME, learning_rate=1.0, n_estimators=10; total time=   0.2s\n",
            "[CV] END algorithm=SAMME, learning_rate=1.0, n_estimators=50; total time=   1.2s\n",
            "[CV] END algorithm=SAMME, learning_rate=1.0, n_estimators=50; total time=   1.2s\n",
            "[CV] END algorithm=SAMME, learning_rate=1.0, n_estimators=100; total time=   2.4s\n",
            "[CV] END algorithm=SAMME, learning_rate=1.0, n_estimators=100; total time=   3.3s\n",
            "[CV] END algorithm=SAMME, learning_rate=1.0, n_estimators=500; total time=  12.6s\n",
            "[CV] END algorithm=SAMME, learning_rate=1.0, n_estimators=500; total time=  12.4s\n",
            "[CV] END algorithm=SAMME.R, learning_rate=0.0001, n_estimators=10; total time=   0.2s\n",
            "[CV] END algorithm=SAMME.R, learning_rate=0.0001, n_estimators=10; total time=   0.2s\n",
            "[CV] END algorithm=SAMME.R, learning_rate=0.0001, n_estimators=50; total time=   1.2s\n",
            "[CV] END algorithm=SAMME.R, learning_rate=0.0001, n_estimators=50; total time=   1.2s\n",
            "[CV] END algorithm=SAMME.R, learning_rate=0.0001, n_estimators=100; total time=   2.4s\n",
            "[CV] END algorithm=SAMME.R, learning_rate=0.0001, n_estimators=100; total time=   2.4s\n",
            "[CV] END algorithm=SAMME.R, learning_rate=0.0001, n_estimators=500; total time=  13.2s\n",
            "[CV] END algorithm=SAMME.R, learning_rate=0.0001, n_estimators=500; total time=  12.9s\n",
            "[CV] END algorithm=SAMME.R, learning_rate=0.001, n_estimators=10; total time=   0.3s\n",
            "[CV] END algorithm=SAMME.R, learning_rate=0.001, n_estimators=10; total time=   0.4s\n",
            "[CV] END algorithm=SAMME.R, learning_rate=0.001, n_estimators=50; total time=   1.9s\n",
            "[CV] END algorithm=SAMME.R, learning_rate=0.001, n_estimators=50; total time=   1.3s\n",
            "[CV] END algorithm=SAMME.R, learning_rate=0.001, n_estimators=100; total time=   2.5s\n",
            "[CV] END algorithm=SAMME.R, learning_rate=0.001, n_estimators=100; total time=   2.5s\n",
            "[CV] END algorithm=SAMME.R, learning_rate=0.001, n_estimators=500; total time=  12.9s\n",
            "[CV] END algorithm=SAMME.R, learning_rate=0.001, n_estimators=500; total time=  13.1s\n",
            "[CV] END algorithm=SAMME.R, learning_rate=0.01, n_estimators=10; total time=   0.3s\n",
            "[CV] END algorithm=SAMME.R, learning_rate=0.01, n_estimators=10; total time=   0.3s\n",
            "[CV] END algorithm=SAMME.R, learning_rate=0.01, n_estimators=50; total time=   1.3s\n",
            "[CV] END algorithm=SAMME.R, learning_rate=0.01, n_estimators=50; total time=   2.0s\n",
            "[CV] END algorithm=SAMME.R, learning_rate=0.01, n_estimators=100; total time=   2.6s\n",
            "[CV] END algorithm=SAMME.R, learning_rate=0.01, n_estimators=100; total time=   2.4s\n",
            "[CV] END algorithm=SAMME.R, learning_rate=0.01, n_estimators=500; total time=  13.0s\n",
            "[CV] END algorithm=SAMME.R, learning_rate=0.01, n_estimators=500; total time=  13.7s\n",
            "[CV] END algorithm=SAMME.R, learning_rate=0.1, n_estimators=10; total time=   0.3s\n",
            "[CV] END algorithm=SAMME.R, learning_rate=0.1, n_estimators=10; total time=   0.3s\n",
            "[CV] END algorithm=SAMME.R, learning_rate=0.1, n_estimators=50; total time=   1.3s\n",
            "[CV] END algorithm=SAMME.R, learning_rate=0.1, n_estimators=50; total time=   1.3s\n",
            "[CV] END algorithm=SAMME.R, learning_rate=0.1, n_estimators=100; total time=   3.4s\n",
            "[CV] END algorithm=SAMME.R, learning_rate=0.1, n_estimators=100; total time=   2.4s\n",
            "[CV] END algorithm=SAMME.R, learning_rate=0.1, n_estimators=500; total time=  12.7s\n",
            "[CV] END algorithm=SAMME.R, learning_rate=0.1, n_estimators=500; total time=  12.9s\n",
            "[CV] END algorithm=SAMME.R, learning_rate=1.0, n_estimators=10; total time=   0.3s\n",
            "[CV] END algorithm=SAMME.R, learning_rate=1.0, n_estimators=10; total time=   0.2s\n",
            "[CV] END algorithm=SAMME.R, learning_rate=1.0, n_estimators=50; total time=   1.2s\n",
            "[CV] END algorithm=SAMME.R, learning_rate=1.0, n_estimators=50; total time=   1.2s\n",
            "[CV] END algorithm=SAMME.R, learning_rate=1.0, n_estimators=100; total time=   2.4s\n",
            "[CV] END algorithm=SAMME.R, learning_rate=1.0, n_estimators=100; total time=   3.2s\n",
            "[CV] END algorithm=SAMME.R, learning_rate=1.0, n_estimators=500; total time=  12.8s\n",
            "[CV] END algorithm=SAMME.R, learning_rate=1.0, n_estimators=500; total time=  12.8s\n",
            "\n",
            "\n",
            "Best parameters are: \n",
            "{'algorithm': 'SAMME.R', 'learning_rate': 0.1, 'n_estimators': 500}\n"
          ]
        }
      ],
      "source": [
        "params = {'n_estimators': [10, 50, 100, 500],\n",
        " 'learning_rate': [0.0001, 0.001, 0.01, 0.1, 1.0],\n",
        " 'algorithm': ['SAMME', 'SAMME.R']}\n",
        "\n",
        "ada_optimal_model = grid_search(AdaBoostClassifier(), params,x_train, y_train)"
      ]
    },
    {
      "cell_type": "code",
      "execution_count": 20,
      "metadata": {
        "colab": {
          "base_uri": "https://localhost:8080/",
          "height": 743
        },
        "execution": {
          "iopub.execute_input": "2022-01-06T07:31:35.358260Z",
          "iopub.status.busy": "2022-01-06T07:31:35.357457Z",
          "iopub.status.idle": "2022-01-06T07:32:07.554842Z",
          "shell.execute_reply": "2022-01-06T07:32:07.554186Z",
          "shell.execute_reply.started": "2022-01-06T07:31:35.358218Z"
        },
        "id": "F3DWMkjEkTxt",
        "outputId": "fb23454a-9e50-4a35-d477-f2abb62fdc14",
        "trusted": true
      },
      "outputs": [
        {
          "name": "stdout",
          "output_type": "stream",
          "text": [
            "Train confusion matrix is: \n",
            "[[6761   94]\n",
            " [1043  757]]\n",
            "\n",
            "Test confusion matrix is: \n",
            "[[2278   45]\n",
            " [ 340  223]]\n",
            "\n",
            "              precision    recall  f1-score   support\n",
            "\n",
            "           0       0.87      0.98      0.92      2323\n",
            "           1       0.83      0.40      0.54       563\n",
            "\n",
            "    accuracy                           0.87      2886\n",
            "   macro avg       0.85      0.69      0.73      2886\n",
            "weighted avg       0.86      0.87      0.85      2886\n",
            "\n",
            "\n",
            "Train accuracy score:  0.868630849220104\n",
            "Test accuracy score:  0.8665973665973666\n",
            "\n",
            "Train ROC-AUC score:  0.9218550936056407\n",
            "Test ROC-AUC score:  0.8779339205061136\n",
            "\n",
            "Are under Precision-Recall curve: 0.5367027677496993\n",
            "Area under ROC-AUC: 0.7021179688268547\n"
          ]
        },
        {
          "data": {
            "image/png": "[encoded data removed]",
            "text/plain": [
              "<Figure size 432x288 with 2 Axes>"
            ]
          },
          "metadata": {
            "needs_background": "light"
          },
          "output_type": "display_data"
        }
      ],
      "source": [
        "ao_train_accuracy, ao_test_accuracy, ao_train_auc, ao_test_auc=check_scores(ada_optimal_model,x_train,x_test, y_train, y_test)\n"
      ]
    },
    {
      "cell_type": "markdown",
      "metadata": {
        "id": "2XF721ymkTxt"
      },
      "source": [
        "###Bagging with MultinomialNB"
      ]
    },
    {
      "cell_type": "code",
      "execution_count": 21,
      "metadata": {
        "colab": {
          "base_uri": "https://localhost:8080/",
          "height": 778
        },
        "execution": {
          "iopub.execute_input": "2022-01-06T07:32:07.556354Z",
          "iopub.status.busy": "2022-01-06T07:32:07.556017Z",
          "iopub.status.idle": "2022-01-06T07:32:09.342833Z",
          "shell.execute_reply": "2022-01-06T07:32:09.342190Z",
          "shell.execute_reply.started": "2022-01-06T07:32:07.556312Z"
        },
        "id": "t_BdbdnhkTxt",
        "outputId": "38ea647a-5c02-4bae-8be2-d3cb7df4258a",
        "trusted": true
      },
      "outputs": [
        {
          "name": "stderr",
          "output_type": "stream",
          "text": [
            "/usr/local/lib/python3.9/dist-packages/sklearn/ensemble/_base.py:166: FutureWarning: `base_estimator` was renamed to `estimator` in version 1.2 and will be removed in 1.4.\n",
            "  warnings.warn(\n"
          ]
        },
        {
          "name": "stdout",
          "output_type": "stream",
          "text": [
            "Train confusion matrix is: \n",
            "[[6853    2]\n",
            " [1324  476]]\n",
            "\n",
            "Test confusion matrix is: \n",
            "[[2319    4]\n",
            " [ 478   85]]\n",
            "\n",
            "              precision    recall  f1-score   support\n",
            "\n",
            "           0       0.83      1.00      0.91      2323\n",
            "           1       0.96      0.15      0.26       563\n",
            "\n",
            "    accuracy                           0.83      2886\n",
            "   macro avg       0.89      0.57      0.58      2886\n",
            "weighted avg       0.85      0.83      0.78      2886\n",
            "\n",
            "\n",
            "Train accuracy score:  0.8467937608318891\n",
            "Test accuracy score:  0.832986832986833\n",
            "\n",
            "Train ROC-AUC score:  0.9524950968473945\n",
            "Test ROC-AUC score:  0.8999517528399685\n",
            "\n",
            "Are under Precision-Recall curve: 0.2607361963190184\n",
            "Area under ROC-AUC: 0.7351923139910456\n"
          ]
        },
        {
          "data": {
            "image/png": "[encoded data removed]",
            "text/plain": [
              "<Figure size 432x288 with 2 Axes>"
            ]
          },
          "metadata": {
            "needs_background": "light"
          },
          "output_type": "display_data"
        }
      ],
      "source": [
        "kfold = model_selection.KFold(n_splits = 3)\n",
        "  \n",
        "# bagging classifier\n",
        "model = BaggingClassifier(base_estimator = MultinomialNB(), n_estimators = 100)\n",
        "\n",
        "b_train_accuracy, b_test_accuracy, b_train_auc, b_test_auc= check_scores(model,x_train,x_test, y_train, y_test)"
      ]
    },
    {
      "cell_type": "markdown",
      "metadata": {
        "id": "cXun9yrUkTxt"
      },
      "source": [
        "### Using Random Forest"
      ]
    },
    {
      "cell_type": "code",
      "execution_count": 22,
      "metadata": {
        "colab": {
          "base_uri": "https://localhost:8080/",
          "height": 743
        },
        "execution": {
          "iopub.execute_input": "2022-01-06T07:32:09.344510Z",
          "iopub.status.busy": "2022-01-06T07:32:09.344047Z",
          "iopub.status.idle": "2022-01-06T07:32:36.268949Z",
          "shell.execute_reply": "2022-01-06T07:32:36.268210Z",
          "shell.execute_reply.started": "2022-01-06T07:32:09.344472Z"
        },
        "id": "tfJK9uW_kTxu",
        "outputId": "a6b8abb3-2884-4806-9a66-bca912c9e64c",
        "trusted": true
      },
      "outputs": [
        {
          "name": "stdout",
          "output_type": "stream",
          "text": [
            "Train confusion matrix is: \n",
            "[[6829   26]\n",
            " [   5 1795]]\n",
            "\n",
            "Test confusion matrix is: \n",
            "[[2215  108]\n",
            " [ 238  325]]\n",
            "\n",
            "              precision    recall  f1-score   support\n",
            "\n",
            "           0       0.90      0.95      0.93      2323\n",
            "           1       0.75      0.58      0.65       563\n",
            "\n",
            "    accuracy                           0.88      2886\n",
            "   macro avg       0.83      0.77      0.79      2886\n",
            "weighted avg       0.87      0.88      0.87      2886\n",
            "\n",
            "\n",
            "Train accuracy score:  0.996418255343732\n",
            "Test accuracy score:  0.8801108801108801\n",
            "\n",
            "Train ROC-AUC score:  0.9982442661479861\n",
            "Test ROC-AUC score:  0.8956867344777572\n",
            "\n",
            "Are under Precision-Recall curve: 0.6526104417670683\n",
            "Area under ROC-AUC: 0.7441899264879837\n"
          ]
        },
        {
          "data": {
            "image/png": "[encoded data removed]",
            "text/plain": [
              "<Figure size 432x288 with 2 Axes>"
            ]
          },
          "metadata": {
            "needs_background": "light"
          },
          "output_type": "display_data"
        }
      ],
      "source": [
        "r_train_accuracy, r_test_accuracy, r_train_auc, r_test_auc= check_scores(RandomForestClassifier(random_state=0).fit(x_train, y_train), x_train,x_test,y_train,y_test)\n"
      ]
    },
    {
      "cell_type": "markdown",
      "metadata": {
        "id": "Qgc2pS2wkTxu"
      },
      "source": [
        "### Using LSTM"
      ]
    },
    {
      "cell_type": "code",
      "execution_count": 23,
      "metadata": {
        "colab": {
          "base_uri": "https://localhost:8080/"
        },
        "execution": {
          "iopub.execute_input": "2022-01-06T07:32:36.271688Z",
          "iopub.status.busy": "2022-01-06T07:32:36.271159Z",
          "iopub.status.idle": "2022-01-06T07:32:38.849315Z",
          "shell.execute_reply": "2022-01-06T07:32:38.848620Z",
          "shell.execute_reply.started": "2022-01-06T07:32:36.271652Z"
        },
        "id": "8DeN4ntgkTxu",
        "outputId": "40569c61-a983-4578-a063-273a63c0c6b1",
        "trusted": true
      },
      "outputs": [
        {
          "data": {
            "text/plain": [
              "((11541, 124), (11541,))"
            ]
          },
          "execution_count": 23,
          "metadata": {},
          "output_type": "execute_result"
        }
      ],
      "source": [
        "corpus = [df['cleaned_tweet'][i] for i in range( len(df))]\n",
        "\n",
        "voc_size=5000\n",
        "\n",
        "onehot_=[one_hot(words,voc_size)for words in corpus] \n",
        "\n",
        "max_sent_length=max([len(i) for i in corpus])\n",
        "\n",
        "embedded_docs=pad_sequences(onehot_,padding='pre',maxlen=max_sent_length)\n",
        "    \n",
        "embedding_vector_features=40\n",
        "model=Sequential()\n",
        "model.add(Embedding(voc_size,embedding_vector_features,input_length=max_sent_length))\n",
        "model.add(Dropout(0.3))\n",
        "model.add(LSTM(100))\n",
        "model.add(Dropout(0.3))\n",
        "model.add(Dense(1,activation='sigmoid'))\n",
        "model.compile(loss='binary_crossentropy',optimizer='adam',metrics=['accuracy'])\n",
        "\n",
        "X_final=np.array(embedded_docs)\n",
        "y_final=np.array(df['airline_sentiment'])\n",
        "X_final.shape,y_final.shape\n"
      ]
    },
    {
      "cell_type": "code",
      "execution_count": 24,
      "metadata": {
        "colab": {
          "base_uri": "https://localhost:8080/"
        },
        "execution": {
          "iopub.execute_input": "2022-01-06T07:32:38.850812Z",
          "iopub.status.busy": "2022-01-06T07:32:38.850553Z",
          "iopub.status.idle": "2022-01-06T07:33:03.491439Z",
          "shell.execute_reply": "2022-01-06T07:33:03.490756Z",
          "shell.execute_reply.started": "2022-01-06T07:32:38.850776Z"
        },
        "id": "ymB8A_lvkTxu",
        "outputId": "44644adf-3f0b-4d97-a739-2b9d70bc375e",
        "trusted": true
      },
      "outputs": [
        {
          "name": "stdout",
          "output_type": "stream",
          "text": [
            "Epoch 1/10\n",
            "121/121 [==============================] - 21s 111ms/step - loss: 0.4785 - accuracy: 0.8003 - val_loss: 0.3532 - val_accuracy: 0.8441\n",
            "Epoch 2/10\n",
            "121/121 [==============================] - 4s 31ms/step - loss: 0.2780 - accuracy: 0.8840 - val_loss: 0.2882 - val_accuracy: 0.8819\n",
            "Epoch 3/10\n",
            "121/121 [==============================] - 3s 21ms/step - loss: 0.1972 - accuracy: 0.9158 - val_loss: 0.2982 - val_accuracy: 0.8784\n",
            "Epoch 4/10\n",
            "121/121 [==============================] - 2s 14ms/step - loss: 0.1959 - accuracy: 0.9177 - val_loss: 0.3211 - val_accuracy: 0.8695\n",
            "Epoch 5/10\n",
            "121/121 [==============================] - 2s 14ms/step - loss: 0.1735 - accuracy: 0.9333 - val_loss: 0.3435 - val_accuracy: 0.8693\n",
            "Epoch 6/10\n",
            "121/121 [==============================] - 2s 15ms/step - loss: 0.1376 - accuracy: 0.9479 - val_loss: 0.3703 - val_accuracy: 0.8737\n",
            "Epoch 7/10\n",
            "121/121 [==============================] - 2s 18ms/step - loss: 0.1126 - accuracy: 0.9578 - val_loss: 0.4030 - val_accuracy: 0.8737\n",
            "Epoch 8/10\n",
            "121/121 [==============================] - 1s 12ms/step - loss: 0.0926 - accuracy: 0.9670 - val_loss: 0.4481 - val_accuracy: 0.8729\n",
            "Epoch 9/10\n",
            "121/121 [==============================] - 2s 13ms/step - loss: 0.0847 - accuracy: 0.9708 - val_loss: 0.4740 - val_accuracy: 0.8729\n",
            "Epoch 10/10\n",
            "121/121 [==============================] - 2s 14ms/step - loss: 0.0723 - accuracy: 0.9748 - val_loss: 0.4961 - val_accuracy: 0.8627\n"
          ]
        },
        {
          "data": {
            "text/plain": [
              "<keras.callbacks.History at 0x7f9e60108730>"
            ]
          },
          "execution_count": 24,
          "metadata": {},
          "output_type": "execute_result"
        }
      ],
      "source": [
        "X_train, X_test, y_train, y_test = train_test_split(X_final, y_final, test_size=0.33, random_state=42)\n",
        "model.fit(X_train,y_train,validation_data=(X_test,y_test),epochs=10,batch_size=64)\n"
      ]
    },
    {
      "cell_type": "code",
      "execution_count": 25,
      "metadata": {
        "colab": {
          "base_uri": "https://localhost:8080/"
        },
        "execution": {
          "iopub.execute_input": "2022-01-06T07:33:03.492996Z",
          "iopub.status.busy": "2022-01-06T07:33:03.492662Z",
          "iopub.status.idle": "2022-01-06T07:33:04.881827Z",
          "shell.execute_reply": "2022-01-06T07:33:04.881099Z",
          "shell.execute_reply.started": "2022-01-06T07:33:03.492960Z"
        },
        "id": "q_lVd_wCkTxu",
        "outputId": "f2563c5f-a231-4023-e4b5-9ccc68c28602",
        "trusted": true
      },
      "outputs": [
        {
          "name": "stdout",
          "output_type": "stream",
          "text": [
            "120/120 [==============================] - 1s 4ms/step\n",
            "242/242 [==============================] - 1s 4ms/step\n"
          ]
        }
      ],
      "source": [
        "# Make predictions on test and train data\n",
        "y_test_pred_prob = model.predict(X_test)\n",
        "y_train_pred_prob = model.predict(X_train)\n",
        "\n",
        "# Convert predicted class probabilities to class labels\n",
        "y_test_pred = np.argmax(y_test_pred_prob, axis=1)\n",
        "y_train_pred = np.argmax(y_train_pred_prob, axis=1)"
      ]
    },
    {
      "cell_type": "code",
      "execution_count": 26,
      "metadata": {
        "execution": {
          "iopub.execute_input": "2022-01-06T07:33:04.885274Z",
          "iopub.status.busy": "2022-01-06T07:33:04.885021Z",
          "iopub.status.idle": "2022-01-06T07:33:04.896350Z",
          "shell.execute_reply": "2022-01-06T07:33:04.895690Z",
          "shell.execute_reply.started": "2022-01-06T07:33:04.885246Z"
        },
        "id": "LA2SOvdtkTxu",
        "trusted": true
      },
      "outputs": [],
      "source": [
        "test_acc_lstm = accuracy_score(y_test,y_test_pred)\n",
        "train_acc_lstm = accuracy_score(y_train,y_train_pred)\n",
        "test_roc_lstm = roc_auc_score(y_test,y_test_pred)\n",
        "train_roc_lstm = roc_auc_score(y_train,y_train_pred)\n"
      ]
    },
    {
      "cell_type": "code",
      "execution_count": 30,
      "metadata": {
        "colab": {
          "base_uri": "https://localhost:8080/"
        },
        "id": "BPxpgEFsIXro",
        "outputId": "9732e63a-30ee-4d87-d125-cc8f69506671"
      },
      "outputs": [
        {
          "name": "stdout",
          "output_type": "stream",
          "text": [
            "LSTM Test accuracy:  0.7973221317931215\n",
            "LSTM train accuracy:  0.7942317640972582\n",
            "LSTM Test ROC accuracy:  0.5\n",
            "LSTM Trian ROC accuracy:  0.5\n"
          ]
        }
      ],
      "source": [
        "print(\"LSTM Test accuracy: \", test_acc_lstm)\n",
        "print(\"LSTM train accuracy: \", train_acc_lstm)\n",
        "print(\"LSTM Test ROC accuracy: \", test_roc_lstm)\n",
        "print(\"LSTM Trian ROC accuracy: \", train_roc_lstm)"
      ]
    },
    {
      "cell_type": "markdown",
      "metadata": {
        "id": "hNiOMYunkTxv"
      },
      "source": [
        "### Final Results"
      ]
    },
    {
      "cell_type": "code",
      "execution_count": 27,
      "metadata": {
        "colab": {
          "base_uri": "https://localhost:8080/",
          "height": 363
        },
        "execution": {
          "iopub.execute_input": "2022-01-06T07:33:04.897820Z",
          "iopub.status.busy": "2022-01-06T07:33:04.897499Z",
          "iopub.status.idle": "2022-01-06T07:33:04.914992Z",
          "shell.execute_reply": "2022-01-06T07:33:04.914291Z",
          "shell.execute_reply.started": "2022-01-06T07:33:04.897783Z"
        },
        "id": "VnTxWvE3kTxv",
        "outputId": "f65f0514-3ac3-4b72-e555-dd9041fba77d",
        "trusted": true
      },
      "outputs": [
        {
          "data": {
            "text/html": [
              "\n",
              "  <div id=\"df-a518e607-5e70-4987-9bac-e4c2ad3a0393\">\n",
              "    <div class=\"colab-df-container\">\n",
              "      <div>\n",
              "<style scoped>\n",
              "    .dataframe tbody tr th:only-of-type {\n",
              "        vertical-align: middle;\n",
              "    }\n",
              "\n",
              "    .dataframe tbody tr th {\n",
              "        vertical-align: top;\n",
              "    }\n",
              "\n",
              "    .dataframe thead th {\n",
              "        text-align: right;\n",
              "    }\n",
              "</style>\n",
              "<table border=\"1\" class=\"dataframe\">\n",
              "  <thead>\n",
              "    <tr style=\"text-align: right;\">\n",
              "      <th></th>\n",
              "      <th>Train Accuracy</th>\n",
              "      <th>Test Accuracy</th>\n",
              "      <th>Train ROC</th>\n",
              "      <th>Test ROC</th>\n",
              "    </tr>\n",
              "    <tr>\n",
              "      <th>Model Name</th>\n",
              "      <th></th>\n",
              "      <th></th>\n",
              "      <th></th>\n",
              "      <th></th>\n",
              "    </tr>\n",
              "  </thead>\n",
              "  <tbody>\n",
              "    <tr>\n",
              "      <th>Random Forest</th>\n",
              "      <td>0.996418</td>\n",
              "      <td>0.880111</td>\n",
              "      <td>0.998244</td>\n",
              "      <td>0.895687</td>\n",
              "    </tr>\n",
              "    <tr>\n",
              "      <th>Multinomial Naive Bayes</th>\n",
              "      <td>0.850029</td>\n",
              "      <td>0.834026</td>\n",
              "      <td>0.956111</td>\n",
              "      <td>0.901301</td>\n",
              "    </tr>\n",
              "    <tr>\n",
              "      <th>Bagged MultinomialNB</th>\n",
              "      <td>0.846794</td>\n",
              "      <td>0.832987</td>\n",
              "      <td>0.952495</td>\n",
              "      <td>0.899952</td>\n",
              "    </tr>\n",
              "    <tr>\n",
              "      <th>Gaussian Naive Bayes</th>\n",
              "      <td>0.848411</td>\n",
              "      <td>0.694733</td>\n",
              "      <td>0.904303</td>\n",
              "      <td>0.688587</td>\n",
              "    </tr>\n",
              "    <tr>\n",
              "      <th>AdaBoost</th>\n",
              "      <td>0.859965</td>\n",
              "      <td>0.861400</td>\n",
              "      <td>0.868948</td>\n",
              "      <td>0.837380</td>\n",
              "    </tr>\n",
              "    <tr>\n",
              "      <th>AdaBoost Optimized</th>\n",
              "      <td>0.868631</td>\n",
              "      <td>0.866597</td>\n",
              "      <td>0.921855</td>\n",
              "      <td>0.877934</td>\n",
              "    </tr>\n",
              "    <tr>\n",
              "      <th>SVM</th>\n",
              "      <td>0.978972</td>\n",
              "      <td>0.886348</td>\n",
              "      <td>0.996906</td>\n",
              "      <td>0.929177</td>\n",
              "    </tr>\n",
              "    <tr>\n",
              "      <th>SVM Optimized</th>\n",
              "      <td>0.996418</td>\n",
              "      <td>0.897436</td>\n",
              "      <td>0.998731</td>\n",
              "      <td>0.928770</td>\n",
              "    </tr>\n",
              "    <tr>\n",
              "      <th>LSTM</th>\n",
              "      <td>0.794232</td>\n",
              "      <td>0.797322</td>\n",
              "      <td>0.500000</td>\n",
              "      <td>0.500000</td>\n",
              "    </tr>\n",
              "  </tbody>\n",
              "</table>\n",
              "</div>\n",
              "      <button class=\"colab-df-convert\" onclick=\"convertToInteractive('df-a518e607-5e70-4987-9bac-e4c2ad3a0393')\"\n",
              "              title=\"Convert this dataframe to an interactive table.\"\n",
              "              style=\"display:none;\">\n",
              "        \n",
              "  <svg xmlns=\"http://www.w3.org/2000/svg\" height=\"24px\"viewBox=\"0 0 24 24\"\n",
              "       width=\"24px\">\n",
              "    <path d=\"M0 0h24v24H0V0z\" fill=\"none\"/>\n",
              "    <path d=\"M18.56 5.44l.94 2.06.94-2.06 2.06-.94-2.06-.94-.94-2.06-.94 2.06-2.06.94zm-11 1L8.5 8.5l.94-2.06 2.06-.94-2.06-.94L8.5 2.5l-.94 2.06-2.06.94zm10 10l.94 2.06.94-2.06 2.06-.94-2.06-.94-.94-2.06-.94 2.06-2.06.94z\"/><path d=\"M17.41 7.96l-1.37-1.37c-.4-.4-.92-.59-1.43-.59-.52 0-1.04.2-1.43.59L10.3 9.45l-7.72 7.72c-.78.78-.78 2.05 0 2.83L4 21.41c.39.39.9.59 1.41.59.51 0 1.02-.2 1.41-.59l7.78-7.78 2.81-2.81c.8-.78.8-2.07 0-2.86zM5.41 20L4 18.59l7.72-7.72 1.47 1.35L5.41 20z\"/>\n",
              "  </svg>\n",
              "      </button>\n",
              "      \n",
              "  <style>\n",
              "    .colab-df-container {\n",
              "      display:flex;\n",
              "      flex-wrap:wrap;\n",
              "      gap: 12px;\n",
              "    }\n",
              "\n",
              "    .colab-df-convert {\n",
              "      background-color: #E8F0FE;\n",
              "      border: none;\n",
              "      border-radius: 50%;\n",
              "      cursor: pointer;\n",
              "      display: none;\n",
              "      fill: #1967D2;\n",
              "      height: 32px;\n",
              "      padding: 0 0 0 0;\n",
              "      width: 32px;\n",
              "    }\n",
              "\n",
              "    .colab-df-convert:hover {\n",
              "      background-color: #E2EBFA;\n",
              "      box-shadow: 0px 1px 2px rgba(60, 64, 67, 0.3), 0px 1px 3px 1px rgba(60, 64, 67, 0.15);\n",
              "      fill: #174EA6;\n",
              "    }\n",
              "\n",
              "    [theme=dark] .colab-df-convert {\n",
              "      background-color: #3B4455;\n",
              "      fill: #D2E3FC;\n",
              "    }\n",
              "\n",
              "    [theme=dark] .colab-df-convert:hover {\n",
              "      background-color: #434B5C;\n",
              "      box-shadow: 0px 1px 3px 1px rgba(0, 0, 0, 0.15);\n",
              "      filter: drop-shadow(0px 1px 2px rgba(0, 0, 0, 0.3));\n",
              "      fill: #FFFFFF;\n",
              "    }\n",
              "  </style>\n",
              "\n",
              "      <script>\n",
              "        const buttonEl =\n",
              "          document.querySelector('#df-a518e607-5e70-4987-9bac-e4c2ad3a0393 button.colab-df-convert');\n",
              "        buttonEl.style.display =\n",
              "          google.colab.kernel.accessAllowed ? 'block' : 'none';\n",
              "\n",
              "        async function convertToInteractive(key) {\n",
              "          const element = document.querySelector('#df-a518e607-5e70-4987-9bac-e4c2ad3a0393');\n",
              "          const dataTable =\n",
              "            await google.colab.kernel.invokeFunction('convertToInteractive',\n",
              "                                                     [key], {});\n",
              "          if (!dataTable) return;\n",
              "\n",
              "          const docLinkHtml = 'Like what you see? Visit the ' +\n",
              "            '<a target=\"_blank\" href=https://colab.research.google.com/notebooks/data_table.ipynb>data table notebook</a>'\n",
              "            + ' to learn more about interactive tables.';\n",
              "          element.innerHTML = '';\n",
              "          dataTable['output_type'] = 'display_data';\n",
              "          await google.colab.output.renderOutput(dataTable, element);\n",
              "          const docLink = document.createElement('div');\n",
              "          docLink.innerHTML = docLinkHtml;\n",
              "          element.appendChild(docLink);\n",
              "        }\n",
              "      </script>\n",
              "    </div>\n",
              "  </div>\n",
              "  "
            ],
            "text/plain": [
              "                         Train Accuracy  Test Accuracy  Train ROC  Test ROC\n",
              "Model Name                                                                 \n",
              "Random Forest                  0.996418       0.880111   0.998244  0.895687\n",
              "Multinomial Naive Bayes        0.850029       0.834026   0.956111  0.901301\n",
              "Bagged MultinomialNB           0.846794       0.832987   0.952495  0.899952\n",
              "Gaussian Naive Bayes           0.848411       0.694733   0.904303  0.688587\n",
              "AdaBoost                       0.859965       0.861400   0.868948  0.837380\n",
              "AdaBoost Optimized             0.868631       0.866597   0.921855  0.877934\n",
              "SVM                            0.978972       0.886348   0.996906  0.929177\n",
              "SVM Optimized                  0.996418       0.897436   0.998731  0.928770\n",
              "LSTM                           0.794232       0.797322   0.500000  0.500000"
            ]
          },
          "execution_count": 27,
          "metadata": {},
          "output_type": "execute_result"
        }
      ],
      "source": [
        "data = [('Random Forest', r_train_accuracy, r_test_accuracy, r_train_auc, r_test_auc),\n",
        "        ('Multinomial Naive Bayes',m_train_accuracy, m_test_accuracy, m_train_auc, m_test_auc  ),\n",
        "        ('Bagged MultinomialNB',b_train_accuracy, b_test_accuracy, b_train_auc, b_test_auc ),\n",
        "        ('Gaussian Naive Bayes',g_train_accuracy, g_test_accuracy, g_train_auc, g_test_auc),\n",
        "        ('AdaBoost',a_train_accuracy, a_test_accuracy, a_train_auc, a_test_auc ),\n",
        "        ('AdaBoost Optimized',ao_train_accuracy, ao_test_accuracy, ao_train_auc, ao_test_auc),\n",
        "        ('SVM', s_train_accuracy, s_test_accuracy, s_train_auc, s_test_auc),\n",
        "        ('SVM Optimized', so_train_accuracy, so_test_accuracy, so_train_auc, so_test_auc),\n",
        "        ('LSTM',train_acc_lstm, test_acc_lstm, train_roc_lstm, test_roc_lstm )]\n",
        "\n",
        "Scores_ =pd.DataFrame(data = data, columns=['Model Name','Train Accuracy', 'Test Accuracy', 'Train ROC', 'Test ROC'])\n",
        "Scores_.set_index('Model Name', inplace = True)\n",
        "Scores_"
      ]
    },
    {
      "cell_type": "markdown",
      "metadata": {
        "id": "H4jjrb1SkTxv"
      },
      "source": [
        "### Conclusion\n",
        "\n",
        "**Most of the models are doing pretty well here.**"
      ]
    }
  ],
  "metadata": {
    "accelerator": "GPU",
    "colab": {
      "provenance": []
    },
    "gpuClass": "standard",
    "kernelspec": {
      "display_name": "Python 3",
      "language": "python",
      "name": "python3"
    },
    "language_info": {
      "codemirror_mode": {
        "name": "ipython",
        "version": 3
      },
      "file_extension": ".py",
      "mimetype": "text/x-python",
      "name": "python",
      "nbconvert_exporter": "python",
      "pygments_lexer": "ipython3",
      "version": "3.7.10"
    }
  },
  "nbformat": 4,
  "nbformat_minor": 0
}
